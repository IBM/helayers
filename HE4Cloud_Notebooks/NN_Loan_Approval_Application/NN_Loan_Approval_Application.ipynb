{
 "cells": [
  {
   "cell_type": "markdown",
   "id": "abroad-reputation",
   "metadata": {},
   "source": [
    "# Loan aproval analysis using a fabricated German Credit Data dataset\n",
    "\n",
    "This notebook shows an example of training and running a model that classifies people described by a set of attributes as good or bad credit risks.\n",
    "It is based on a fabricated dataset that generated based on the <a href=\"https://archive.ics.uci.edu/ml/datasets/statlog+(german+credit+data)\">German Credit Data dataset</a> from the <a href=\"https://archive.ics.uci.edu/\">UCI</a> repository. \n",
    "The German Credit Data dataset has 20 attributes (7 numerical, 13 categorical) and the target field is an integer either Good (1) or Bad (2), where it is worse to class a customer as good when they are bad (5), than it is to class a customer as bad when they are good (1).\n",
    "\n",
    "The demonstration uses a 6 layer neural network (NN): FC(200) --> Square activation --> FC(100) --> Square activation --> FC(1) --> Square activation\n",
    "\n",
    "The required estimated memory is: model (140MB), input (7.34MB), output (0.26MB), and context (100MB).\n",
    "\n",
    "We start by importing the required source packages."
   ]
  },
  {
   "cell_type": "markdown",
   "id": "apparent-sunglasses",
   "metadata": {},
   "source": [
    "The dataset attributes are:\n",
    "\n",
    "|Attribute|Description|Values|\n",
    "|---|---|---|\n",
    "|checking|Status of existing checking account|<ul><li> A11 : ... < 0 DM</li></ul><ul><li> A12 : 0 <= ... <  200 DM</li></ul><ul><li>A13 :      ... >= 200 DM / salary assignments for at least 1 year</li></ul><ul><li>A14 : no checking account</li></ul>|\n",
    "|duration|Duration in month| Numerical\n",
    "|credit-hist|Credit history|<ul><li>A30 : no credits taken/all credits paid back duly</li></ul><ul><li>A31 : all credits at this bank paid back duly</li></ul><ul><li>A32 : existing credits paid back duly till now</li></ul><ul><li>A33 : delay in paying off in the past</li></ul><ul><li>A34 : critical account/ other credits existing (not at this bank)</li></ul>|\n",
    "|purpose|Purpose|<ul><li>A40 : car (new)</li></ul><ul><li>A41 : car (used)</li></ul><ul><li>A42 : furniture/equipment</li></ul><ul><li>A43 : radio/television</li></ul><ul><li>A44 : domestic appliances</li></ul><ul><li>A45 : repairs</li></ul><ul><li>A46 : education</li></ul><ul><li>A47 : (vacation - does not exist?)</li></ul><ul><li>A48 : retraining</li></ul><ul><li>A49 : business</li></ul><ul><li>A410 : others</li></ul>|\n",
    "|credit-amount|Credit amount|Numerical|\n",
    "|saving-account|Savings account/bonds|<ul><li>A61 :          ... <  100 DM</li></ul><ul><li>A62 :   100 <= ... <  500 DM</li></ul><ul><li>A63 :   500 <= ... < 1000 DM</li></ul><ul><li>A64 :          .. >= 1000 DM</li></ul><ul><li>A65 :   unknown/ no savings account</li></ul>|\n",
    "|employment-duration|Present employment since|<ul><li>A71 : unemployed</li></ul><ul><li>A72 :       ... < 1 year</li></ul><ul><li>A73 : 1  <= ... < 4 years</li></ul><ul><li>A74 : 4  <= ... < 7 years</li></ul><ul><li>A75 :       .. >= 7 years|\n",
    "|installment-income-ratio|Installment rate in percentage of disposable income|Numerical|\n",
    "|Attribute 9: (qualitative)\n",
    "|sex|Personal status and sex|<ul><li>A91 : male : divorced/separated</li></ul><ul><li>A92 : female : divorced/separated/married</li></ul><ul><li>A93 : male : single</li></ul><ul><li>A94 : male : married/widowed</li></ul><ul><li>A95 : female : single</li></ul>|\n",
    "|debtors-guarantors|Other debtors / guarantors|<ul><li>A101 : none</li></ul><ul><li>A102 : co-applicant</li></ul><ul><li>A103 : guarantor|\n",
    "|residence-since|Present residence since|Numerical|\n",
    "|property|Property|<ul><li>A121 : real estate</li></ul><ul><li>A122 : if not A121 : building society savings agreement/life insurance</li></ul><ul><li>A123 : if not A121/A122 : car or other, not in attribute 6</li></ul><ul><li>A124 : unknown / no property</li></ul>|\n",
    "|age|Age in years| Numerical|\n",
    "|installment-plans|Other installment plans|<ul><li>A141 : bank</li></ul><ul><li>A142 : stores</li></ul><ul><li>A143 : none</li></ul>|\n",
    "|housing|Housing|<ul><li>A151 : rent</li></ul><ul><li>A152 : own</li></ul><ul><li>A153 : for free</li></ul>|\n",
    "|num-existing-credits|Number of existing credits at this bank|Numerical|\n",
    "|job|Job|<ul><li>A171 : unemployed/ unskilled  - non-resident</li></ul><ul><li>A172 : unskilled - resident</li></ul><ul><li>A173 : skilled employee / official</li></ul><ul><li>A174 : management/ self-employed/</li></ul><ul><li>highly qualified employee/ officer|\n",
    "|num-liable|Number of people being liable to provide maintenance for|Numerical|\n",
    "|telephone|Telephone|<ul><li>A191 : none</li></ul><ul><li>A192 : yes, registered under the customers name</li></ul>|\n",
    "|foreighn-worker|foreign worker|<ul><li>A201 : yes</li></ul><ul><li>A202 : no</li></ul>|\n"
   ]
  },
  {
   "cell_type": "code",
   "execution_count": 26,
   "id": "supported-width",
   "metadata": {},
   "outputs": [],
   "source": [
    "import os\n",
    "import warnings\n",
    "warnings.filterwarnings(\"ignore\")\n",
    "\n",
    "##### For reproducibility\n",
    "from numpy.random import seed\n",
    "seed(1)\n",
    "import numpy as np\n",
    "import pandas as pd\n",
    "\n",
    "import tensorflow as tf\n",
    "tf.random.set_seed(1)\n",
    "from keras import backend as K\n",
    "from keras.models import Sequential\n",
    "from keras.layers import Dense, Activation\n",
    "from tensorflow.keras.optimizers import Adam\n",
    "\n",
    "from sklearn import metrics\n",
    "from sklearn.model_selection import train_test_split\n",
    "from  preprocessor import Preprocessor\n",
    "\n",
    "import h5py"
   ]
  },
  {
   "cell_type": "markdown",
   "id": "tough-belle",
   "metadata": {},
   "source": [
    "### Data loading\n",
    "Please refer to the dataset <a href=\"https://archive.ics.uci.edu/ml/datasets/statlog+(german+credit+data)\">documentation</a> for the complete list of attributes and their description."
   ]
  },
  {
   "cell_type": "code",
   "execution_count": 27,
   "id": "lesbian-proof",
   "metadata": {},
   "outputs": [
    {
     "data": {
      "text/html": [
       "<div>\n",
       "<style scoped>\n",
       "    .dataframe tbody tr th:only-of-type {\n",
       "        vertical-align: middle;\n",
       "    }\n",
       "\n",
       "    .dataframe tbody tr th {\n",
       "        vertical-align: top;\n",
       "    }\n",
       "\n",
       "    .dataframe thead th {\n",
       "        text-align: right;\n",
       "    }\n",
       "</style>\n",
       "<table border=\"1\" class=\"dataframe\">\n",
       "  <thead>\n",
       "    <tr style=\"text-align: right;\">\n",
       "      <th></th>\n",
       "      <th>checking</th>\n",
       "      <th>duration</th>\n",
       "      <th>credit-hist</th>\n",
       "      <th>purpose</th>\n",
       "      <th>credit-amount</th>\n",
       "      <th>savings-account</th>\n",
       "      <th>employment-duration</th>\n",
       "      <th>installment-income-ratio</th>\n",
       "      <th>marital-gender-status</th>\n",
       "      <th>debtors-guarantors</th>\n",
       "      <th>...</th>\n",
       "      <th>property</th>\n",
       "      <th>age</th>\n",
       "      <th>installment-plans</th>\n",
       "      <th>housing</th>\n",
       "      <th>num-existing-credits</th>\n",
       "      <th>job</th>\n",
       "      <th>num-liable</th>\n",
       "      <th>telephone</th>\n",
       "      <th>foreign-worker</th>\n",
       "      <th>is_good</th>\n",
       "    </tr>\n",
       "  </thead>\n",
       "  <tbody>\n",
       "    <tr>\n",
       "      <th>0</th>\n",
       "      <td>A11</td>\n",
       "      <td>17</td>\n",
       "      <td>A32</td>\n",
       "      <td>A43</td>\n",
       "      <td>595</td>\n",
       "      <td>A61</td>\n",
       "      <td>A73</td>\n",
       "      <td>3</td>\n",
       "      <td>A94</td>\n",
       "      <td>A103</td>\n",
       "      <td>...</td>\n",
       "      <td>A121</td>\n",
       "      <td>23</td>\n",
       "      <td>A143</td>\n",
       "      <td>A152</td>\n",
       "      <td>1</td>\n",
       "      <td>A173</td>\n",
       "      <td>1</td>\n",
       "      <td>A191</td>\n",
       "      <td>A201</td>\n",
       "      <td>1</td>\n",
       "    </tr>\n",
       "    <tr>\n",
       "      <th>1</th>\n",
       "      <td>A12</td>\n",
       "      <td>16</td>\n",
       "      <td>A34</td>\n",
       "      <td>A43</td>\n",
       "      <td>284</td>\n",
       "      <td>A62</td>\n",
       "      <td>A74</td>\n",
       "      <td>4</td>\n",
       "      <td>A94</td>\n",
       "      <td>A101</td>\n",
       "      <td>...</td>\n",
       "      <td>A121</td>\n",
       "      <td>20</td>\n",
       "      <td>A143</td>\n",
       "      <td>A152</td>\n",
       "      <td>1</td>\n",
       "      <td>A174</td>\n",
       "      <td>1</td>\n",
       "      <td>A191</td>\n",
       "      <td>A201</td>\n",
       "      <td>2</td>\n",
       "    </tr>\n",
       "    <tr>\n",
       "      <th>2</th>\n",
       "      <td>A11</td>\n",
       "      <td>5</td>\n",
       "      <td>A32</td>\n",
       "      <td>A43</td>\n",
       "      <td>267</td>\n",
       "      <td>A61</td>\n",
       "      <td>A75</td>\n",
       "      <td>4</td>\n",
       "      <td>A93</td>\n",
       "      <td>A101</td>\n",
       "      <td>...</td>\n",
       "      <td>A123</td>\n",
       "      <td>26</td>\n",
       "      <td>A143</td>\n",
       "      <td>A152</td>\n",
       "      <td>1</td>\n",
       "      <td>A173</td>\n",
       "      <td>1</td>\n",
       "      <td>A192</td>\n",
       "      <td>A201</td>\n",
       "      <td>1</td>\n",
       "    </tr>\n",
       "    <tr>\n",
       "      <th>3</th>\n",
       "      <td>A14</td>\n",
       "      <td>5</td>\n",
       "      <td>A34</td>\n",
       "      <td>A41</td>\n",
       "      <td>1194</td>\n",
       "      <td>A61</td>\n",
       "      <td>A75</td>\n",
       "      <td>1</td>\n",
       "      <td>A93</td>\n",
       "      <td>A101</td>\n",
       "      <td>...</td>\n",
       "      <td>A123</td>\n",
       "      <td>62</td>\n",
       "      <td>A143</td>\n",
       "      <td>A152</td>\n",
       "      <td>4</td>\n",
       "      <td>A173</td>\n",
       "      <td>1</td>\n",
       "      <td>A191</td>\n",
       "      <td>A201</td>\n",
       "      <td>1</td>\n",
       "    </tr>\n",
       "    <tr>\n",
       "      <th>4</th>\n",
       "      <td>A14</td>\n",
       "      <td>5</td>\n",
       "      <td>A32</td>\n",
       "      <td>A46</td>\n",
       "      <td>924</td>\n",
       "      <td>A61</td>\n",
       "      <td>A73</td>\n",
       "      <td>1</td>\n",
       "      <td>A92</td>\n",
       "      <td>A101</td>\n",
       "      <td>...</td>\n",
       "      <td>A123</td>\n",
       "      <td>63</td>\n",
       "      <td>A142</td>\n",
       "      <td>A152</td>\n",
       "      <td>1</td>\n",
       "      <td>A173</td>\n",
       "      <td>1</td>\n",
       "      <td>A191</td>\n",
       "      <td>A201</td>\n",
       "      <td>2</td>\n",
       "    </tr>\n",
       "  </tbody>\n",
       "</table>\n",
       "<p>5 rows × 21 columns</p>\n",
       "</div>"
      ],
      "text/plain": [
       "  checking  duration credit-hist purpose  credit-amount savings-account  \\\n",
       "0      A11        17         A32     A43            595             A61   \n",
       "1      A12        16         A34     A43            284             A62   \n",
       "2      A11         5         A32     A43            267             A61   \n",
       "3      A14         5         A34     A41           1194             A61   \n",
       "4      A14         5         A32     A46            924             A61   \n",
       "\n",
       "  employment-duration  installment-income-ratio marital-gender-status  \\\n",
       "0                 A73                         3                   A94   \n",
       "1                 A74                         4                   A94   \n",
       "2                 A75                         4                   A93   \n",
       "3                 A75                         1                   A93   \n",
       "4                 A73                         1                   A92   \n",
       "\n",
       "  debtors-guarantors  ... property age  installment-plans housing  \\\n",
       "0               A103  ...     A121  23               A143    A152   \n",
       "1               A101  ...     A121  20               A143    A152   \n",
       "2               A101  ...     A123  26               A143    A152   \n",
       "3               A101  ...     A123  62               A143    A152   \n",
       "4               A101  ...     A123  63               A142    A152   \n",
       "\n",
       "  num-existing-credits   job num-liable  telephone foreign-worker is_good  \n",
       "0                    1  A173          1       A191           A201       1  \n",
       "1                    1  A174          1       A191           A201       2  \n",
       "2                    1  A173          1       A192           A201       1  \n",
       "3                    4  A173          1       A191           A201       1  \n",
       "4                    1  A173          1       A191           A201       2  \n",
       "\n",
       "[5 rows x 21 columns]"
      ]
     },
     "execution_count": 27,
     "metadata": {},
     "output_type": "execute_result"
    }
   ],
   "source": [
    "cols = {'checking':str, \n",
    "        'duration':np.int64, \n",
    "        'credit-hist':str, \n",
    "        'purpose':str, \n",
    "        'credit-amount':np.int64,\n",
    "        'savings-account':str, \n",
    "        'employment-duration':str, \n",
    "        'installment-income-ratio':np.int64,\n",
    "        'marital-gender-status':str,\n",
    "        'debtors-guarantors':str, \n",
    "        'residence-since':str, \n",
    "        'property':str, \n",
    "        'age':np.int64,\n",
    "        'installment-plans':str, \n",
    "        'housing':str, \n",
    "        'num-existing-credits':np.int64, \n",
    "        'job':str,\n",
    "        'num-liable':np.int64, \n",
    "        'telephone':str, \n",
    "        'foreign-worker':str, \n",
    "        'is_good':np.int64}\n",
    "\n",
    "df = pd.read_csv('./datasets/loan_approval.generated', sep=\" \", index_col=False, names=cols.keys(), header=None, dtype=cols)\n",
    "df.head()"
   ]
  },
  {
   "cell_type": "markdown",
   "id": "numerous-finland",
   "metadata": {},
   "source": [
    "### Data preprocessing\n",
    "\n",
    "We first convert the categorial features (in the table below) to indicator vectors. "
   ]
  },
  {
   "cell_type": "markdown",
   "id": "banned-median",
   "metadata": {},
   "source": [
    "Subsequently, we split every row into its target value (y) and predicates (X)."
   ]
  },
  {
   "cell_type": "code",
   "execution_count": 28,
   "id": "devoted-jones",
   "metadata": {},
   "outputs": [
    {
     "data": {
      "text/html": [
       "<div>\n",
       "<style scoped>\n",
       "    .dataframe tbody tr th:only-of-type {\n",
       "        vertical-align: middle;\n",
       "    }\n",
       "\n",
       "    .dataframe tbody tr th {\n",
       "        vertical-align: top;\n",
       "    }\n",
       "\n",
       "    .dataframe thead th {\n",
       "        text-align: right;\n",
       "    }\n",
       "</style>\n",
       "<table border=\"1\" class=\"dataframe\">\n",
       "  <thead>\n",
       "    <tr style=\"text-align: right;\">\n",
       "      <th></th>\n",
       "      <th>checking</th>\n",
       "      <th>duration</th>\n",
       "      <th>credit-hist</th>\n",
       "      <th>purpose</th>\n",
       "      <th>credit-amount</th>\n",
       "      <th>savings-account</th>\n",
       "      <th>employment-duration</th>\n",
       "      <th>installment-income-ratio</th>\n",
       "      <th>marital-gender-status</th>\n",
       "      <th>debtors-guarantors</th>\n",
       "      <th>residence-since</th>\n",
       "      <th>property</th>\n",
       "      <th>age</th>\n",
       "      <th>installment-plans</th>\n",
       "      <th>housing</th>\n",
       "      <th>num-existing-credits</th>\n",
       "      <th>job</th>\n",
       "      <th>num-liable</th>\n",
       "      <th>telephone</th>\n",
       "      <th>foreign-worker</th>\n",
       "    </tr>\n",
       "  </thead>\n",
       "  <tbody>\n",
       "    <tr>\n",
       "      <th>0</th>\n",
       "      <td>A11</td>\n",
       "      <td>17</td>\n",
       "      <td>A32</td>\n",
       "      <td>A43</td>\n",
       "      <td>595</td>\n",
       "      <td>A61</td>\n",
       "      <td>A73</td>\n",
       "      <td>3</td>\n",
       "      <td>A94</td>\n",
       "      <td>A103</td>\n",
       "      <td>4</td>\n",
       "      <td>A121</td>\n",
       "      <td>23</td>\n",
       "      <td>A143</td>\n",
       "      <td>A152</td>\n",
       "      <td>1</td>\n",
       "      <td>A173</td>\n",
       "      <td>1</td>\n",
       "      <td>A191</td>\n",
       "      <td>A201</td>\n",
       "    </tr>\n",
       "    <tr>\n",
       "      <th>1</th>\n",
       "      <td>A12</td>\n",
       "      <td>16</td>\n",
       "      <td>A34</td>\n",
       "      <td>A43</td>\n",
       "      <td>284</td>\n",
       "      <td>A62</td>\n",
       "      <td>A74</td>\n",
       "      <td>4</td>\n",
       "      <td>A94</td>\n",
       "      <td>A101</td>\n",
       "      <td>4</td>\n",
       "      <td>A121</td>\n",
       "      <td>20</td>\n",
       "      <td>A143</td>\n",
       "      <td>A152</td>\n",
       "      <td>1</td>\n",
       "      <td>A174</td>\n",
       "      <td>1</td>\n",
       "      <td>A191</td>\n",
       "      <td>A201</td>\n",
       "    </tr>\n",
       "    <tr>\n",
       "      <th>2</th>\n",
       "      <td>A11</td>\n",
       "      <td>5</td>\n",
       "      <td>A32</td>\n",
       "      <td>A43</td>\n",
       "      <td>267</td>\n",
       "      <td>A61</td>\n",
       "      <td>A75</td>\n",
       "      <td>4</td>\n",
       "      <td>A93</td>\n",
       "      <td>A101</td>\n",
       "      <td>4</td>\n",
       "      <td>A123</td>\n",
       "      <td>26</td>\n",
       "      <td>A143</td>\n",
       "      <td>A152</td>\n",
       "      <td>1</td>\n",
       "      <td>A173</td>\n",
       "      <td>1</td>\n",
       "      <td>A192</td>\n",
       "      <td>A201</td>\n",
       "    </tr>\n",
       "    <tr>\n",
       "      <th>3</th>\n",
       "      <td>A14</td>\n",
       "      <td>5</td>\n",
       "      <td>A34</td>\n",
       "      <td>A41</td>\n",
       "      <td>1194</td>\n",
       "      <td>A61</td>\n",
       "      <td>A75</td>\n",
       "      <td>1</td>\n",
       "      <td>A93</td>\n",
       "      <td>A101</td>\n",
       "      <td>4</td>\n",
       "      <td>A123</td>\n",
       "      <td>62</td>\n",
       "      <td>A143</td>\n",
       "      <td>A152</td>\n",
       "      <td>4</td>\n",
       "      <td>A173</td>\n",
       "      <td>1</td>\n",
       "      <td>A191</td>\n",
       "      <td>A201</td>\n",
       "    </tr>\n",
       "    <tr>\n",
       "      <th>4</th>\n",
       "      <td>A14</td>\n",
       "      <td>5</td>\n",
       "      <td>A32</td>\n",
       "      <td>A46</td>\n",
       "      <td>924</td>\n",
       "      <td>A61</td>\n",
       "      <td>A73</td>\n",
       "      <td>1</td>\n",
       "      <td>A92</td>\n",
       "      <td>A101</td>\n",
       "      <td>1</td>\n",
       "      <td>A123</td>\n",
       "      <td>63</td>\n",
       "      <td>A142</td>\n",
       "      <td>A152</td>\n",
       "      <td>1</td>\n",
       "      <td>A173</td>\n",
       "      <td>1</td>\n",
       "      <td>A191</td>\n",
       "      <td>A201</td>\n",
       "    </tr>\n",
       "  </tbody>\n",
       "</table>\n",
       "</div>"
      ],
      "text/plain": [
       "  checking  duration credit-hist purpose  credit-amount savings-account  \\\n",
       "0      A11        17         A32     A43            595             A61   \n",
       "1      A12        16         A34     A43            284             A62   \n",
       "2      A11         5         A32     A43            267             A61   \n",
       "3      A14         5         A34     A41           1194             A61   \n",
       "4      A14         5         A32     A46            924             A61   \n",
       "\n",
       "  employment-duration  installment-income-ratio marital-gender-status  \\\n",
       "0                 A73                         3                   A94   \n",
       "1                 A74                         4                   A94   \n",
       "2                 A75                         4                   A93   \n",
       "3                 A75                         1                   A93   \n",
       "4                 A73                         1                   A92   \n",
       "\n",
       "  debtors-guarantors residence-since property  age installment-plans housing  \\\n",
       "0               A103               4     A121   23              A143    A152   \n",
       "1               A101               4     A121   20              A143    A152   \n",
       "2               A101               4     A123   26              A143    A152   \n",
       "3               A101               4     A123   62              A143    A152   \n",
       "4               A101               1     A123   63              A142    A152   \n",
       "\n",
       "   num-existing-credits   job  num-liable telephone foreign-worker  \n",
       "0                     1  A173           1      A191           A201  \n",
       "1                     1  A174           1      A191           A201  \n",
       "2                     1  A173           1      A192           A201  \n",
       "3                     4  A173           1      A191           A201  \n",
       "4                     1  A173           1      A191           A201  "
      ]
     },
     "execution_count": 28,
     "metadata": {},
     "output_type": "execute_result"
    }
   ],
   "source": [
    "X = df.drop(['is_good'], axis=1)\n",
    "y = df['is_good'].replace([1, 2], [1, 0])\n",
    "X.head()"
   ]
  },
  {
   "cell_type": "markdown",
   "id": "extra-investigation",
   "metadata": {},
   "source": [
    "### Data preprocessing\n",
    "\n",
    "We split the dataset into the training (x_train, y_train) and test (x_test, y_test) sets and scale their features. \n",
    "\n",
    "We convert the categorial features (in the table below) to indicator vectors. \n",
    "\n",
    "Subsequently, we split the test set into test and validation sets."
   ]
  },
  {
   "cell_type": "code",
   "execution_count": 29,
   "id": "promising-defense",
   "metadata": {},
   "outputs": [],
   "source": [
    "x_train, x_test, y_train, y_test = train_test_split(X, y ,test_size=0.2, random_state=5, stratify=y)\n",
    "\n",
    "prep = Preprocessor()\n",
    "x_train = prep.fit_transform(x_train)\n",
    "x_test = prep.transform(x_test)\n",
    "\n",
    "x_test, x_val, y_test, y_val = train_test_split(x_test, y_test, test_size=4096, random_state=5, stratify=y_test)"
   ]
  },
  {
   "cell_type": "markdown",
   "id": "conceptual-madness",
   "metadata": {},
   "source": [
    "For later use in HE, we save the different preprocessed datasets."
   ]
  },
  {
   "cell_type": "code",
   "execution_count": 30,
   "id": "differential-mortality",
   "metadata": {},
   "outputs": [
    {
     "name": "stdout",
     "output_type": "stream",
     "text": [
      "Saving x_test of shape (15904, 62) in datasets/x_test.h5\n",
      "Saving y_test of shape (15904,) in datasets/x_test.h5\n",
      "Saving x_train of shape (80000, 62) in datasets/x_train.h5\n",
      "Saving y_train of shape (80000,) in datasets/x_train.h5\n",
      "Saving x_val of shape (4096, 62) in datasets/x_val.h5\n",
      "Saving y_val of shape (4096,) in datasets/x_val.h5\n"
     ]
    }
   ],
   "source": [
    "def save_data_set(x, y, data_type, path, s=''):\n",
    "    if not os.path.exists(path):\n",
    "        os.makedirs(path)\n",
    "    fname=os.path.join(path, f'x_{data_type}{s}.h5')\n",
    "    print(\"Saving x_{} of shape {} in {}\".format(data_type, x.shape, fname))\n",
    "    xf = h5py.File(fname, 'w')\n",
    "    xf.create_dataset('x_{}'.format(data_type), data=x)\n",
    "    xf.close()\n",
    "\n",
    "    print(\"Saving y_{} of shape {} in {}\".format(data_type, y.shape, fname))\n",
    "    yf = h5py.File(os.path.join(path, f'y_{data_type}{s}.h5'), 'w')\n",
    "    yf.create_dataset(f'y_{data_type}', data=y)\n",
    "    yf.close()\n",
    "\n",
    "datasets_dir = \"datasets/\"\n",
    "model_dir = \"model/\"\n",
    "\n",
    "save_data_set(x_test, y_test, data_type='test', path=datasets_dir)\n",
    "save_data_set(x_train, y_train, data_type='train', path=datasets_dir)\n",
    "save_data_set(x_val, y_val, data_type='val', path=datasets_dir)\n",
    "\n",
    "\n",
    "prep.save(os.path.join(model_dir, \"prep.pickle\"))"
   ]
  },
  {
   "cell_type": "markdown",
   "id": "empty-electricity",
   "metadata": {},
   "source": [
    "### The model\n",
    "\n",
    "The model has 6 layers: \n",
    "\n",
    "FC(200) --> Square activation --> FC(100) --> Square activation --> FC(1) --> Square activation"
   ]
  },
  {
   "cell_type": "code",
   "execution_count": 31,
   "id": "harmful-hunter",
   "metadata": {},
   "outputs": [],
   "source": [
    "def square(x):\n",
    "    return x ** 2"
   ]
  },
  {
   "cell_type": "code",
   "execution_count": 32,
   "id": "f6b23a7c",
   "metadata": {},
   "outputs": [
    {
     "name": "stdout",
     "output_type": "stream",
     "text": [
      "Model: \"sequential_1\"\n",
      "_________________________________________________________________\n",
      " Layer (type)                Output Shape              Param #   \n",
      "=================================================================\n",
      " dense_3 (Dense)             (None, 200)               12600     \n",
      "                                                                 \n",
      " activation_2 (Activation)   (None, 200)               0         \n",
      "                                                                 \n",
      " dense_4 (Dense)             (None, 100)               20100     \n",
      "                                                                 \n",
      " activation_3 (Activation)   (None, 100)               0         \n",
      "                                                                 \n",
      " dense_5 (Dense)             (None, 1)                 101       \n",
      "                                                                 \n",
      "=================================================================\n",
      "Total params: 32,801\n",
      "Trainable params: 32,801\n",
      "Non-trainable params: 0\n",
      "_________________________________________________________________\n"
     ]
    }
   ],
   "source": [
    "model = Sequential()\n",
    "model.add(Dense(200, input_shape=(x_train.shape[1],)))\n",
    "model.add(Activation(activation=square))\n",
    "model.add(Dense(100, input_shape=(x_train.shape[1],)))\n",
    "model.add(Activation(activation=square))\n",
    "model.add(Dense(1))\n",
    "model.summary()"
   ]
  },
  {
   "cell_type": "markdown",
   "id": "terminal-repository",
   "metadata": {},
   "source": [
    "#### Model training"
   ]
  },
  {
   "cell_type": "code",
   "execution_count": 33,
   "id": "environmental-apparatus",
   "metadata": {},
   "outputs": [
    {
     "name": "stdout",
     "output_type": "stream",
     "text": [
      "Epoch 1/5\n",
      "200/200 - 1s - loss: 0.4190 - accuracy: 0.7857 - val_loss: 0.3902 - val_accuracy: 0.8125 - 1s/epoch - 6ms/step\n",
      "Epoch 2/5\n",
      "200/200 - 1s - loss: 0.3796 - accuracy: 0.8166 - val_loss: 0.3886 - val_accuracy: 0.8035 - 681ms/epoch - 3ms/step\n",
      "Epoch 3/5\n",
      "200/200 - 1s - loss: 0.3746 - accuracy: 0.8190 - val_loss: 0.3865 - val_accuracy: 0.8176 - 687ms/epoch - 3ms/step\n",
      "Epoch 4/5\n",
      "200/200 - 1s - loss: 0.3708 - accuracy: 0.8213 - val_loss: 0.3864 - val_accuracy: 0.8188 - 710ms/epoch - 4ms/step\n",
      "Epoch 5/5\n",
      "200/200 - 1s - loss: 0.3693 - accuracy: 0.8224 - val_loss: 0.3794 - val_accuracy: 0.8101 - 677ms/epoch - 3ms/step\n"
     ]
    },
    {
     "data": {
      "text/plain": [
       "<keras.callbacks.History at 0x7f930cfcde50>"
      ]
     },
     "execution_count": 33,
     "metadata": {},
     "output_type": "execute_result"
    }
   ],
   "source": [
    "def sum_squared_error(y_true, y_pred):\n",
    "    y_true = tf.cast(y_pred, tf.float32)\n",
    "    return K.sum(K.square(y_pred - y_true), axis=-1)\n",
    "\n",
    "batch_size = 400\n",
    "epochs = 5\n",
    "learning_rate = 0.001\n",
    "\n",
    "model.compile(loss=tf.keras.losses.BinaryCrossentropy(from_logits=True), #losses.MeanSquaredError(),  # losses.BinaryCrossentropy(from_logits=True), =>for v2\n",
    "              optimizer=Adam(lr=learning_rate),\n",
    "              metrics=['accuracy'])\n",
    "\n",
    "model.fit(x_train, \n",
    "          y_train,\n",
    "          batch_size=batch_size,\n",
    "          epochs=epochs,\n",
    "          verbose=2,\n",
    "          validation_data=(x_val, y_val),\n",
    "          shuffle=True)"
   ]
  },
  {
   "cell_type": "markdown",
   "id": "subsequent-prevention",
   "metadata": {},
   "source": [
    "For later use in HE, we save the trained model."
   ]
  },
  {
   "cell_type": "code",
   "execution_count": 34,
   "id": "sustainable-subcommittee",
   "metadata": {},
   "outputs": [
    {
     "name": "stdout",
     "output_type": "stream",
     "text": [
      "Saving weights to: model/nn_loan_approval_model_weights.h5\n"
     ]
    }
   ],
   "source": [
    "def save_weights(model, path):\n",
    "    if not os.path.exists(path):\n",
    "        os.mkdir(path)\n",
    "    fname = os.path.join(path, \"nn_loan_approval_model_weights.h5\")\n",
    "    print(\"Saving weights to: \" + fname)\n",
    "    model.save_weights(fname)\n",
    "    s = model.to_json()\n",
    "\n",
    "    with open(os.path.join(path, f'nn_loan_approval_model.json'), 'w') as f:\n",
    "        f.write(s)\n",
    "\n",
    "save_weights(model, model_dir)"
   ]
  },
  {
   "cell_type": "code",
   "execution_count": 35,
   "id": "incorporate-yield",
   "metadata": {},
   "outputs": [
    {
     "name": "stdout",
     "output_type": "stream",
     "text": [
      "Test loss: 0.376\n",
      "Test accuracy:81.715\n"
     ]
    }
   ],
   "source": [
    "score = model.evaluate(x_test, y_test, verbose=0)\n",
    "\n",
    "print(f'Test loss: {score[0]:.3f}')\n",
    "print(f'Test accuracy:{score[1] * 100:.3f}')"
   ]
  },
  {
   "cell_type": "markdown",
   "id": "comprehensive-inside",
   "metadata": {},
   "source": [
    "#### Using the model for classifying cleartest data"
   ]
  },
  {
   "cell_type": "code",
   "execution_count": 36,
   "id": "a21cfdfe",
   "metadata": {},
   "outputs": [],
   "source": [
    "y_pred_vals = model.predict(x_test)\n",
    "y_pred_vals = tf.keras.activations.sigmoid(y_pred_vals).numpy()\n",
    "\n",
    "y_pred = (y_pred_vals > 0.5).astype(\"int32\")"
   ]
  },
  {
   "cell_type": "code",
   "execution_count": 37,
   "id": "ceramic-brazilian",
   "metadata": {
    "scrolled": true
   },
   "outputs": [
    {
     "name": "stdout",
     "output_type": "stream",
     "text": [
      "Score: 0.7835019923887387\n",
      "Classification report:\n",
      "              precision    recall  f1-score   support\n",
      "\n",
      "           0       0.75      0.66      0.70      4782\n",
      "           1       0.86      0.91      0.88     11122\n",
      "\n",
      "    accuracy                           0.83     15904\n",
      "   macro avg       0.81      0.78      0.79     15904\n",
      "weighted avg       0.83      0.83      0.83     15904\n",
      "\n",
      "Confusion Matrix:\n",
      "[[ 3159  1623]\n",
      " [ 1041 10081]]\n"
     ]
    }
   ],
   "source": [
    "f, t, thresholds = metrics.roc_curve(y_test, y_pred)\n",
    "cm = metrics.confusion_matrix(y_test, y_pred)\n",
    "print(\"Score:\", metrics.auc(f, t))\n",
    "print(\"Classification report:\")\n",
    "print(metrics.classification_report(y_test, y_pred))\n",
    "print(\"Confusion Matrix:\")\n",
    "print(cm)"
   ]
  },
  {
   "cell_type": "markdown",
   "id": "sudden-olive",
   "metadata": {},
   "source": [
    "### Using the model for classifying encrypted data\n",
    "\n",
    "To run the model over encrypted samples with homomorphic encryption (HE), we first load the pyhelayers package and refer it to the directory \"output/\", where we saved the model and the relevant datasets."
   ]
  },
  {
   "cell_type": "code",
   "execution_count": 38,
   "id": "positive-sugar",
   "metadata": {},
   "outputs": [],
   "source": [
    "import pyhelayers"
   ]
  },
  {
   "cell_type": "markdown",
   "id": "twelve-geneva",
   "metadata": {},
   "source": [
    "Load test data and labels from the h5 file"
   ]
  },
  {
   "cell_type": "code",
   "execution_count": 39,
   "id": "broad-netscape",
   "metadata": {},
   "outputs": [],
   "source": [
    "with h5py.File(datasets_dir + \"x_test.h5\") as f:\n",
    "    x_test = np.array(f[\"x_test\"])\n",
    "with h5py.File(datasets_dir + \"y_test.h5\") as f:\n",
    "    y_test = np.array(f[\"y_test\"])"
   ]
  },
  {
   "cell_type": "markdown",
   "id": "assisted-viking",
   "metadata": {},
   "source": [
    "Load a plain model"
   ]
  },
  {
   "cell_type": "code",
   "execution_count": 40,
   "id": "sudden-british",
   "metadata": {},
   "outputs": [
    {
     "name": "stdout",
     "output_type": "stream",
     "text": [
      "loaded plain model\n"
     ]
    }
   ],
   "source": [
    "nnp = pyhelayers.NeuralNetPlain()\n",
    "nnp.init_arch_from_json_file(model_dir + \"nn_loan_approval_model.json\")\n",
    "nnp.init_weights_from_hdf5_file(model_dir + \"nn_loan_approval_model_weights.h5\")\n",
    "print(\"loaded plain model\")"
   ]
  },
  {
   "cell_type": "markdown",
   "id": "fatty-questionnaire",
   "metadata": {},
   "source": [
    "Apply automatic optimziations"
   ]
  },
  {
   "cell_type": "code",
   "execution_count": 41,
   "id": "commercial-custom",
   "metadata": {},
   "outputs": [],
   "source": [
    "context = pyhelayers.DefaultContext()\n",
    "optimizer = pyhelayers.HeProfileOptimizer(nnp, context)\n",
    "optimizer.get_requirements().set_batch_size(16)\n",
    "profile = optimizer.get_optimized_profile(False)\n",
    "batch_size = profile.get_batch_size()"
   ]
  },
  {
   "cell_type": "markdown",
   "id": "comic-depth",
   "metadata": {},
   "source": [
    "To reduce the memory requirements of the context, we reduce the number of rotation keys."
   ]
  },
  {
   "cell_type": "code",
   "execution_count": 42,
   "id": "vanilla-quality",
   "metadata": {},
   "outputs": [],
   "source": [
    "pf1=pyhelayers.PublicFunctions()\n",
    "pf1.rotate=pyhelayers.RotationSetType.CUSTOM_ROTATIONS\n",
    "pf1.set_rotation_steps([1,4,16,128,4096])\n",
    "pf1.conjugate=True\n",
    "requirements = profile.requirement\n",
    "requirements.public_functions=pf1"
   ]
  },
  {
   "cell_type": "markdown",
   "id": "ready-morning",
   "metadata": {},
   "source": [
    "Intialize the HE context with the optimized configuration."
   ]
  },
  {
   "cell_type": "code",
   "execution_count": 43,
   "id": "paperback-consciousness",
   "metadata": {},
   "outputs": [
    {
     "name": "stdout",
     "output_type": "stream",
     "text": [
      "HE Context ready. Batch size= 16\n"
     ]
    }
   ],
   "source": [
    "context.init(profile.requirement)\n",
    "print('HE Context ready. Batch size=',batch_size)"
   ]
  },
  {
   "cell_type": "markdown",
   "id": "attempted-ethnic",
   "metadata": {},
   "source": [
    "Print the HE context (w/ keys) size."
   ]
  },
  {
   "cell_type": "code",
   "execution_count": 44,
   "id": "swedish-concern",
   "metadata": {},
   "outputs": [
    {
     "name": "stdout",
     "output_type": "stream",
     "text": [
      "Size 75.37978172302246 MB\n"
     ]
    }
   ],
   "source": [
    "evalBuf=context.save_to_buffer();\n",
    "print('Size',len(evalBuf)/1024/1024,'MB')"
   ]
  },
  {
   "cell_type": "markdown",
   "id": "desirable-active",
   "metadata": {},
   "source": [
    "#### Encrypt the model"
   ]
  },
  {
   "cell_type": "code",
   "execution_count": 45,
   "id": "hispanic-ground",
   "metadata": {},
   "outputs": [
    {
     "data": {
      "text/plain": [
       "Object (detailed printing not implemented yet)"
      ]
     },
     "execution_count": 45,
     "metadata": {},
     "output_type": "execute_result"
    }
   ],
   "source": [
    "nn = pyhelayers.NeuralNet(context)\n",
    "nn.encode_encrypt(nnp, profile)\n"
   ]
  },
  {
   "cell_type": "markdown",
   "id": "shaped-saudi",
   "metadata": {},
   "source": [
    "We use the encrypted model over batches of 16 records at a time. "
   ]
  },
  {
   "cell_type": "code",
   "execution_count": 46,
   "id": "abstract-selling",
   "metadata": {},
   "outputs": [],
   "source": [
    "plain_samples = x_test.take(indices=range(0, batch_size), axis=0)\n",
    "labels = y_test.take(indices=range(0, batch_size), axis=0)"
   ]
  },
  {
   "cell_type": "markdown",
   "id": "limiting-moment",
   "metadata": {},
   "source": [
    "Encrypt input samples"
   ]
  },
  {
   "cell_type": "code",
   "execution_count": 47,
   "id": "accompanied-shareware",
   "metadata": {},
   "outputs": [],
   "source": [
    "samples = nn.encode_encrypt_input(plain_samples)"
   ]
  },
  {
   "cell_type": "markdown",
   "id": "cardiac-regular",
   "metadata": {},
   "source": [
    "Now we perform inference of the 16 samples under encryption "
   ]
  },
  {
   "cell_type": "code",
   "execution_count": 48,
   "id": "realistic-murray",
   "metadata": {},
   "outputs": [],
   "source": [
    "predictions=nn.predict(samples)"
   ]
  },
  {
   "cell_type": "markdown",
   "id": "flush-ranking",
   "metadata": {},
   "source": [
    "### Plaintext results\n",
    "\n",
    "Decrypting the final results"
   ]
  },
  {
   "cell_type": "code",
   "execution_count": 49,
   "id": "common-massachusetts",
   "metadata": {},
   "outputs": [],
   "source": [
    "plain_predictions = nn.decrypt_decode_output(predictions)"
   ]
  },
  {
   "cell_type": "code",
   "execution_count": 50,
   "id": "brutal-yemen",
   "metadata": {},
   "outputs": [
    {
     "name": "stdout",
     "output_type": "stream",
     "text": [
      "\n",
      "classification results\n",
      "=========================================\n",
      "Label: Good, Prediction: Good.\n",
      "Label: Good, Prediction: Good.\n",
      "Label: Good, Prediction: Bad\n",
      "Label: Bad., Prediction: Bad\n",
      "Label: Good, Prediction: Good.\n",
      "Label: Good, Prediction: Good.\n",
      "Label: Bad., Prediction: Bad\n",
      "Label: Good, Prediction: Good.\n",
      "Label: Good, Prediction: Good.\n",
      "Label: Good, Prediction: Good.\n",
      "Label: Good, Prediction: Good.\n",
      "Label: Good, Prediction: Bad\n",
      "Label: Good, Prediction: Good.\n",
      "Label: Good, Prediction: Good.\n",
      "Label: Bad., Prediction: Bad\n",
      "Label: Good, Prediction: Good.\n"
     ]
    }
   ],
   "source": [
    "print('\\nclassification results')\n",
    "print('=========================================')\n",
    "for label,pred in zip(labels,plain_predictions):\n",
    "    print('Label:',('Good' if label==1 else 'Bad.'),end=', ')\n",
    "    print('Prediction:',('Bad' if pred[0]<0.5 else 'Good.'))"
   ]
  }
 ],
 "metadata": {
  "interpreter": {
   "hash": "f497b8fb6983b2b7e8d6051f4315e544585546557ee2f98a631c292ad437c819"
  },
  "kernelspec": {
   "display_name": "Python 3.8.10 ('fhe-py38-env')",
   "language": "python",
   "name": "python3"
  },
  "language_info": {
   "codemirror_mode": {
    "name": "ipython",
    "version": 3
   },
   "file_extension": ".py",
   "mimetype": "text/x-python",
   "name": "python",
   "nbconvert_exporter": "python",
   "pygments_lexer": "ipython3",
   "version": "3.8.10"
  }
 },
 "nbformat": 4,
 "nbformat_minor": 5
}
