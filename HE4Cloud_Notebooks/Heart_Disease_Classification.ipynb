{
 "cells": [
  {
   "cell_type": "markdown",
   "metadata": {},
   "source": [
    "# Heart disease classification example\n",
    "\n",
    "This notebook shows an example of training and running a model that classifies heart diseases.\n",
    "It is based on the <a herf=\"https://archive.ics.uci.edu/ml/datasets/Heart+Disease\">Heart Disease dataset</a> from the <a href=\"https://archive.ics.uci.edu/\">UCI</a> repository. For privacy reasons, names and social security numbers (SSNs) of patients were removed from the dataset, and were replaced with dummy values.\n",
    "\n",
    "Following the UCI description, this demonstration only uses 14 attributes out of the 76 attributes listed to predict whether a patient will have a heart attack. The target field is an integer value from 0 (no attack) to 4.\n",
    "\n",
    "The demonstration uses a 3 layer neural network (NN): FC(50) --> Square activation --> FC(1)\n",
    "\n",
    "The required estimated memory is: model (4.46MB), input (3.67MB), output (0.13MB), and context (8.18MB).\n",
    "\n",
    "We start by importing the required source packages."
   ]
  },
  {
   "cell_type": "code",
   "execution_count": 26,
   "metadata": {},
   "outputs": [],
   "source": [
    "import os\n",
    "import warnings\n",
    "warnings.filterwarnings(\"ignore\")\n",
    "\n",
    "from numpy.random import seed\n",
    "seed(1)\n",
    "\n",
    "import numpy as np\n",
    "import pandas as pd\n",
    "from sklearn import metrics\n",
    "from sklearn.metrics import accuracy_score,confusion_matrix\n",
    "from sklearn.model_selection import train_test_split\n",
    "from sklearn.preprocessing import MinMaxScaler\n",
    "\n",
    "from keras import backend as K\n",
    "from keras import utils, callbacks, losses\n",
    "from keras.layers import Dense, Activation\n",
    "from keras.models import Sequential\n",
    "from keras.optimizers import SGD\n",
    "\n",
    "import h5py"
   ]
  },
  {
   "cell_type": "markdown",
   "metadata": {},
   "source": [
    "### Data loading\n",
    "Please refer to the dataset <a href=\"https://archive.ics.uci.edu/ml/datasets/Heart+Disease\">documentation</a> for the complete list of attributes and their description.\n"
   ]
  },
  {
   "cell_type": "code",
   "execution_count": 2,
   "metadata": {},
   "outputs": [
    {
     "name": "stdout",
     "output_type": "stream",
     "text": [
      "data shape: (303, 14)\n",
      "Age                          int64\n",
      "Sex                          int64\n",
      "Chest_pain                   int64\n",
      "Resting_blood_pressure       int64\n",
      "Cholesterol                  int64\n",
      "Fasting_blood_sugar          int64\n",
      "ECG_results                  int64\n",
      "Maximum_heart_rate           int64\n",
      "Exercise_induced_angina      int64\n",
      "ST_depression              float64\n",
      "ST_slope                     int64\n",
      "Major_vessels                int64\n",
      "Thalassemia_types            int64\n",
      "Heart_attack                 int64\n",
      "dtype: object\n"
     ]
    }
   ],
   "source": [
    "df = pd.read_csv(\"data/heart/heart.csv\")\n",
    "\n",
    "df.rename(columns={'age': 'Age', 'sex': 'Sex', 'cp': 'Chest_pain', 'trestbps': 'Resting_blood_pressure',\n",
    "                       'chol': 'Cholesterol', 'fbs': 'Fasting_blood_sugar',\n",
    "                       'restecg': 'ECG_results', 'thalach': 'Maximum_heart_rate',\n",
    "                       'exang': 'Exercise_induced_angina', 'oldpeak': 'ST_depression', 'ca': 'Major_vessels',\n",
    "                       'thal': 'Thalassemia_types', 'target': 'Heart_attack', 'slope': 'ST_slope'}, inplace=True)\n",
    "\n",
    "print(f'data shape: {df.shape}')\n",
    "print(df.dtypes)"
   ]
  },
  {
   "cell_type": "markdown",
   "metadata": {},
   "source": [
    "### Data preprocessing\n",
    "\n",
    "We first convert the categorial features (in the table below) to indicator vectors. \n",
    "\n",
    "|Attributes|Description|Values|\n",
    "|---|---|---|\n",
    "|Chest_pain| The chest pain type | Typical angina (1), Atypical angina (2), Non-anginal pain (3), Asymptomatic (4)|\n",
    "|Thalassemia_types| | Normal (3), Fixed defect (6), Reversable defect (7)|\n",
    "|ECG_results| Resting electrocardiographic results|<ul><li>Normal (0)</li></ul><ul><li>Having ST-T wave abnormality (T wave inversions and/or ST elevation or depression of > 0.05 mV) (1)</li></ul><ul><li> Showing probable or definite left ventricular hypertrophy by Estes' criteria (2)</li></ul>|\n",
    "|ST_slope| The slope of the peak exercise ST segment| Upsloping (1), Flat (2), Downsloping (3)|\n",
    "|Major_vessels | The number of major vessels (0-3) colored by flourosopy | 0-3 |"
   ]
  },
  {
   "cell_type": "code",
   "execution_count": 3,
   "metadata": {},
   "outputs": [],
   "source": [
    "dummy1 = pd.get_dummies(df.Chest_pain)\n",
    "dummy2 = pd.get_dummies(df.Thalassemia_types)\n",
    "dummy3 = pd.get_dummies(df.ECG_results)\n",
    "dummy4 = pd.get_dummies(df.ST_slope)\n",
    "dummy5 = pd.get_dummies(df.Major_vessels)\n",
    "merge = pd.concat([df, dummy1, dummy2, dummy3, dummy4, dummy5], axis='columns')\n",
    "\n",
    "final = merge.drop(['Chest_pain', 'Thalassemia_types', 'ECG_results', 'ST_slope', 'Major_vessels'], axis=1)"
   ]
  },
  {
   "cell_type": "markdown",
   "metadata": {},
   "source": [
    "Subsequently, we split every row into its target value (y) and predicates (X)."
   ]
  },
  {
   "cell_type": "code",
   "execution_count": 4,
   "metadata": {},
   "outputs": [],
   "source": [
    "X = final.drop(['Heart_attack'], axis=1)\n",
    "y = final['Heart_attack']"
   ]
  },
  {
   "cell_type": "markdown",
   "metadata": {},
   "source": [
    "We split the dataset into the training (x_train, y_train) and test (x_test, y_test) sets and scale their features."
   ]
  },
  {
   "cell_type": "code",
   "execution_count": 5,
   "metadata": {},
   "outputs": [],
   "source": [
    "x_train, x_test, y_train, y_test = train_test_split(X, y, test_size=0.2, random_state=5)\n",
    "\n",
    "feature_scaler = MinMaxScaler()\n",
    "x_train = feature_scaler.fit_transform(x_train)\n",
    "x_test = feature_scaler.transform(x_test)"
   ]
  },
  {
   "cell_type": "markdown",
   "metadata": {},
   "source": [
    "Finally, we split the test set into test (x_test, y_test) and validation (x_val, y_val) sets."
   ]
  },
  {
   "cell_type": "code",
   "execution_count": 6,
   "metadata": {},
   "outputs": [
    {
     "name": "stdout",
     "output_type": "stream",
     "text": [
      "y_test: 14/30\n",
      "y_train: 134/242\n",
      "y_val: 17/31\n"
     ]
    }
   ],
   "source": [
    "x_test, x_val, y_test, y_val = train_test_split(x_test, y_test, test_size=0.5, random_state=5)\n",
    "print(f\"y_test: {sum(y_test)}/{len(y_test)}\")\n",
    "print(f\"y_train: {sum(y_train)}/{len(y_train)}\")\n",
    "print(f\"y_val: {sum(y_val)}/{len(y_val)}\")\n",
    "input_shape = x_train.shape[1]"
   ]
  },
  {
   "cell_type": "markdown",
   "metadata": {},
   "source": [
    "For later use in HE, we save the different preprocessed datasets."
   ]
  },
  {
   "cell_type": "code",
   "execution_count": 7,
   "metadata": {},
   "outputs": [
    {
     "name": "stdout",
     "output_type": "stream",
     "text": [
      "Saving x_test of shape (30, 27) in outputs/x_test.h5\n",
      "Saving y_test of shape (30,) in outputs/x_test.h5\n",
      "Saving x_train of shape (242, 27) in outputs/x_train.h5\n",
      "Saving y_train of shape (242,) in outputs/x_train.h5\n",
      "Saving x_val of shape (31, 27) in outputs/x_val.h5\n",
      "Saving y_val of shape (31,) in outputs/x_val.h5\n"
     ]
    }
   ],
   "source": [
    "def save_data_set(x, y, data_type, path, s=''):\n",
    "    if not os.path.exists(path):\n",
    "        os.makedirs(path)\n",
    "    fname=os.path.join(path, f'x_{data_type}{s}.h5')\n",
    "    print(\"Saving x_{} of shape {} in {}\".format(data_type, x.shape, fname))\n",
    "    xf = h5py.File(fname, 'w')\n",
    "    xf.create_dataset('x_{}'.format(data_type), data=x)\n",
    "    xf.close()\n",
    "\n",
    "    print(\"Saving y_{} of shape {} in {}\".format(data_type, y.shape, fname))\n",
    "    yf = h5py.File(os.path.join(path, f'y_{data_type}{s}.h5'), 'w')\n",
    "    yf.create_dataset(f'y_{data_type}', data=y)\n",
    "    yf.close()\n",
    "\n",
    "input_output_dir = \"outputs/\"\n",
    "\n",
    "save_data_set(x_test, y_test, data_type='test', path=input_output_dir)\n",
    "save_data_set(x_train, y_train, data_type='train', path=input_output_dir)\n",
    "save_data_set(x_val, y_val, data_type='val', path=input_output_dir)\n"
   ]
  },
  {
   "cell_type": "markdown",
   "metadata": {},
   "source": [
    "### The model\n",
    "\n",
    "The model has 3 layers: \n",
    "\n",
    "FC(50) --> Square activation --> FC(1)"
   ]
  },
  {
   "cell_type": "code",
   "execution_count": 8,
   "metadata": {},
   "outputs": [],
   "source": [
    "def square(x):\n",
    "    return x ** 2\n",
    "\n",
    "model = Sequential()\n",
    "model.add(Dense(50, input_shape=(input_shape,)))\n",
    "model.add(Activation(activation=square))\n",
    "model.add(Dense(1))"
   ]
  },
  {
   "cell_type": "markdown",
   "metadata": {},
   "source": [
    "#### Model training"
   ]
  },
  {
   "cell_type": "code",
   "execution_count": 9,
   "metadata": {},
   "outputs": [
    {
     "name": "stdout",
     "output_type": "stream",
     "text": [
      "Model: \"sequential_1\"\n",
      "_________________________________________________________________\n",
      "Layer (type)                 Output Shape              Param #   \n",
      "=================================================================\n",
      "dense_1 (Dense)              (None, 50)                1400      \n",
      "_________________________________________________________________\n",
      "activation_1 (Activation)    (None, 50)                0         \n",
      "_________________________________________________________________\n",
      "dense_2 (Dense)              (None, 1)                 51        \n",
      "=================================================================\n",
      "Total params: 1,451\n",
      "Trainable params: 1,451\n",
      "Non-trainable params: 0\n",
      "_________________________________________________________________\n",
      "WARNING:tensorflow:From /usr/local/lib/python3.6/dist-packages/tensorflow/python/ops/math_grad.py:1205: add_dispatch_support.<locals>.wrapper (from tensorflow.python.ops.array_ops) is deprecated and will be removed in a future version.\n",
      "Instructions for updating:\n",
      "Use tf.where in 2.0, which has the same broadcast rule as np.where\n",
      "WARNING:tensorflow:From /usr/local/lib/python3.6/dist-packages/keras/backend/tensorflow_backend.py:422: The name tf.global_variables is deprecated. Please use tf.compat.v1.global_variables instead.\n",
      "\n",
      "Train on 242 samples, validate on 31 samples\n",
      "Epoch 1/15\n",
      " - 0s - loss: 0.2346 - accuracy: 0.6818 - val_loss: 0.1277 - val_accuracy: 0.8065\n",
      "Epoch 2/15\n",
      " - 0s - loss: 0.1438 - accuracy: 0.8182 - val_loss: 0.1577 - val_accuracy: 0.7097\n",
      "Epoch 3/15\n",
      " - 0s - loss: 0.1213 - accuracy: 0.8430 - val_loss: 0.1202 - val_accuracy: 0.8387\n",
      "Epoch 4/15\n",
      " - 0s - loss: 0.1104 - accuracy: 0.8595 - val_loss: 0.1233 - val_accuracy: 0.8065\n",
      "Epoch 5/15\n",
      " - 0s - loss: 0.1127 - accuracy: 0.8636 - val_loss: 0.1604 - val_accuracy: 0.7097\n",
      "Epoch 6/15\n",
      " - 0s - loss: 0.1099 - accuracy: 0.8678 - val_loss: 0.1124 - val_accuracy: 0.9032\n",
      "Epoch 7/15\n",
      " - 0s - loss: 0.1046 - accuracy: 0.8678 - val_loss: 0.1489 - val_accuracy: 0.7742\n",
      "Epoch 8/15\n",
      " - 0s - loss: 0.1011 - accuracy: 0.8678 - val_loss: 0.1199 - val_accuracy: 0.8387\n",
      "Epoch 9/15\n",
      " - 0s - loss: 0.0996 - accuracy: 0.8843 - val_loss: 0.1203 - val_accuracy: 0.8710\n",
      "Epoch 10/15\n",
      " - 0s - loss: 0.0974 - accuracy: 0.8802 - val_loss: 0.1272 - val_accuracy: 0.8065\n",
      "Epoch 11/15\n",
      " - 0s - loss: 0.0931 - accuracy: 0.8926 - val_loss: 0.1083 - val_accuracy: 0.8710\n",
      "Epoch 12/15\n",
      " - 0s - loss: 0.0939 - accuracy: 0.9050 - val_loss: 0.1215 - val_accuracy: 0.8710\n",
      "Epoch 13/15\n",
      " - 0s - loss: 0.0875 - accuracy: 0.9174 - val_loss: 0.1262 - val_accuracy: 0.7742\n",
      "Epoch 14/15\n",
      " - 0s - loss: 0.0843 - accuracy: 0.9132 - val_loss: 0.1358 - val_accuracy: 0.8065\n",
      "Epoch 15/15\n",
      " - 0s - loss: 0.0886 - accuracy: 0.9256 - val_loss: 0.1271 - val_accuracy: 0.8065\n"
     ]
    },
    {
     "data": {
      "text/plain": [
       "<keras.callbacks.callbacks.History at 0x7f57ad566eb8>"
      ]
     },
     "execution_count": 9,
     "metadata": {},
     "output_type": "execute_result"
    }
   ],
   "source": [
    "def sum_squared_error(y_true, y_pred):\n",
    "    return K.sum(K.square(y_pred - y_true), axis=-1)\n",
    "\n",
    "loss_func = sum_squared_error\n",
    "optimizer_type = SGD(lr=0.01, momentum=0.9)  # Adam\n",
    "\n",
    "model.compile(loss=loss_func,optimizer=optimizer_type,metrics=['accuracy'])\n",
    "model.summary()\n",
    "\n",
    "batch_size = 10\n",
    "epochs = 15\n",
    "\n",
    "model.fit(x_train, y_train,\n",
    "          batch_size=batch_size,\n",
    "          epochs=epochs,\n",
    "          verbose=2,\n",
    "          validation_data=(x_val, y_val),\n",
    "          shuffle=True)"
   ]
  },
  {
   "cell_type": "markdown",
   "metadata": {},
   "source": [
    "For later use in HE, we save the trained model."
   ]
  },
  {
   "cell_type": "code",
   "execution_count": 10,
   "metadata": {},
   "outputs": [
    {
     "name": "stdout",
     "output_type": "stream",
     "text": [
      "Saving weights to: outputs/model_epoch_0015.h5\n"
     ]
    }
   ],
   "source": [
    "def save_weights(model, index, path):\n",
    "    if not os.path.exists(path):\n",
    "        os.mkdir(path)\n",
    "    fname = os.path.join(path, \"model_epoch_{:0>4}.h5\".format(index))\n",
    "    print(\"Saving weights to: \" + fname)\n",
    "    model.save_weights(fname)\n",
    "    s = model.to_json()\n",
    "\n",
    "    with open(os.path.join(path, f'model_epoch{index}.json'), 'w') as f:\n",
    "        f.write(s)\n",
    "\n",
    "save_weights(model, epochs, path=input_output_dir)"
   ]
  },
  {
   "cell_type": "code",
   "execution_count": 11,
   "metadata": {},
   "outputs": [
    {
     "name": "stdout",
     "output_type": "stream",
     "text": [
      "Test loss: 0.077\n",
      "Test accuracy:93.333\n"
     ]
    }
   ],
   "source": [
    "score = model.evaluate(x_test, y_test, verbose=0)\n",
    "\n",
    "print(f'Test loss: {score[0]:.3f}')\n",
    "print(f'Test accuracy:{score[1] * 100:.3f}')"
   ]
  },
  {
   "cell_type": "markdown",
   "metadata": {},
   "source": [
    "#### Using the model for classifying cleartest data"
   ]
  },
  {
   "cell_type": "code",
   "execution_count": 12,
   "metadata": {},
   "outputs": [
    {
     "name": "stdout",
     "output_type": "stream",
     "text": [
      "Score: 0.9375\n",
      "Classification report:\n",
      "              precision    recall  f1-score   support\n",
      "\n",
      "           0       1.00      0.88      0.93        16\n",
      "           1       0.88      1.00      0.93        14\n",
      "\n",
      "    accuracy                           0.93        30\n",
      "   macro avg       0.94      0.94      0.93        30\n",
      "weighted avg       0.94      0.93      0.93        30\n",
      "\n",
      "Confusion Matrix:\n",
      "[[14  2]\n",
      " [ 0 14]]\n"
     ]
    }
   ],
   "source": [
    "    y_pred = model.predict_classes(x_test)\n",
    "\n",
    "    f, t, thresholds = metrics.roc_curve(y_test, y_pred)\n",
    "    cm = metrics.confusion_matrix(y_test, y_pred)\n",
    "    print(\"Score:\", metrics.auc(f, t))\n",
    "    print(\"Classification report:\")\n",
    "    print(metrics.classification_report(y_test, y_pred))\n",
    "    print(\"Confusion Matrix:\")\n",
    "    print(cm)"
   ]
  },
  {
   "cell_type": "markdown",
   "metadata": {},
   "source": [
    "### Using the model for classifying encrypted data\n",
    "\n",
    "To run the model over encrypted samples with homomorphic encryption (HE), we first load the pyhelayers package and refer it to the directory \"output/\", where we saved the model and the relevant datasets."
   ]
  },
  {
   "cell_type": "code",
   "execution_count": 13,
   "metadata": {},
   "outputs": [],
   "source": [
    "import pyhelayers"
   ]
  },
  {
   "cell_type": "markdown",
   "metadata": {},
   "source": [
    "Load test data and labels from the h5 file"
   ]
  },
  {
   "cell_type": "code",
   "execution_count": 14,
   "metadata": {},
   "outputs": [],
   "source": [
    "with h5py.File(input_output_dir + \"x_test.h5\") as f:\n",
    "    x_test = np.array(f[\"x_test\"])\n",
    "with h5py.File(input_output_dir + \"y_test.h5\") as f:\n",
    "    y_test = np.array(f[\"y_test\"])"
   ]
  },
  {
   "cell_type": "markdown",
   "metadata": {},
   "source": [
    "Load a plain model"
   ]
  },
  {
   "cell_type": "code",
   "execution_count": 15,
   "metadata": {},
   "outputs": [
    {
     "name": "stdout",
     "output_type": "stream",
     "text": [
      "loaded plain model\n"
     ]
    }
   ],
   "source": [
    "nnp = pyhelayers.NeuralNetPlain()\n",
    "nnp.init_arch_from_json_file(input_output_dir + \"model_epoch15.json\")\n",
    "nnp.init_weights_from_hdf5_file(input_output_dir + \"model_epoch_0015.h5\")\n",
    "print(\"loaded plain model\")"
   ]
  },
  {
   "cell_type": "markdown",
   "metadata": {},
   "source": [
    "Apply automatic optimziations"
   ]
  },
  {
   "cell_type": "code",
   "execution_count": 16,
   "metadata": {},
   "outputs": [],
   "source": [
    "context = pyhelayers.DefaultContext()\n",
    "optimizer = pyhelayers.HeProfileOptimizer(nnp, context)\n",
    "optimizer.get_requirements().set_batch_size(16)\n",
    "profile = optimizer.get_optimized_profile(False)\n",
    "batch_size = profile.get_batch_size()"
   ]
  },
  {
   "cell_type": "markdown",
   "metadata": {},
   "source": [
    "To reduce the memory requirements of the context, we reduce the number of rotation keys."
   ]
  },
  {
   "cell_type": "code",
   "execution_count": 17,
   "metadata": {},
   "outputs": [],
   "source": [
    "pf1=pyhelayers.PublicFunctions()\n",
    "pf1.rotate=pyhelayers.RotationSetType.CUSTOM_ROTATIONS\n",
    "pf1.set_rotation_steps([1,2])\n",
    "pf1.conjugate=False\n",
    "requirements = profile.requirement\n",
    "requirements.public_functions=pf1"
   ]
  },
  {
   "cell_type": "markdown",
   "metadata": {},
   "source": [
    "Intialize the HE context with the optimized configuration."
   ]
  },
  {
   "cell_type": "code",
   "execution_count": 18,
   "metadata": {},
   "outputs": [
    {
     "name": "stdout",
     "output_type": "stream",
     "text": [
      "HE Context ready. Batch size= 16\n"
     ]
    }
   ],
   "source": [
    "context.init(profile.requirement)\n",
    "print('HE Context ready. Batch size=',batch_size)"
   ]
  },
  {
   "cell_type": "markdown",
   "metadata": {},
   "source": [
    "Print the HE context (w/ keys) size."
   ]
  },
  {
   "cell_type": "code",
   "execution_count": 19,
   "metadata": {},
   "outputs": [
    {
     "name": "stdout",
     "output_type": "stream",
     "text": [
      "Size 8.189205169677734 MB\n"
     ]
    }
   ],
   "source": [
    "evalBuf=context.save_to_buffer();\n",
    "print('Size',len(evalBuf)/1024/1024,'MB')"
   ]
  },
  {
   "cell_type": "markdown",
   "metadata": {},
   "source": [
    "#### Encrypt the model"
   ]
  },
  {
   "cell_type": "code",
   "execution_count": 20,
   "metadata": {},
   "outputs": [
    {
     "data": {
      "text/plain": [
       "Object (detailed printing not implemented yet)"
      ]
     },
     "execution_count": 20,
     "metadata": {},
     "output_type": "execute_result"
    }
   ],
   "source": [
    "nn = pyhelayers.NeuralNet(context)\n",
    "nn.encode_encrypt(nnp, profile)"
   ]
  },
  {
   "cell_type": "markdown",
   "metadata": {},
   "source": [
    "We use the encrypted model over batches of 16 records at a time. "
   ]
  },
  {
   "cell_type": "code",
   "execution_count": 21,
   "metadata": {},
   "outputs": [],
   "source": [
    "plain_samples = x_test.take(indices=range(0, 16), axis=0)\n",
    "labels = y_test.take(indices=range(0, 16), axis=0)"
   ]
  },
  {
   "cell_type": "markdown",
   "metadata": {},
   "source": [
    "Encrypt input samples"
   ]
  },
  {
   "cell_type": "code",
   "execution_count": 22,
   "metadata": {},
   "outputs": [],
   "source": [
    "samples = nn.encode_encrypt_input(plain_samples)"
   ]
  },
  {
   "cell_type": "markdown",
   "metadata": {},
   "source": [
    "Now we perform inference of the 16 samples under encryption "
   ]
  },
  {
   "cell_type": "code",
   "execution_count": 27,
   "metadata": {},
   "outputs": [],
   "source": [
    "predictions=nn.predict(samples)"
   ]
  },
  {
   "cell_type": "markdown",
   "metadata": {},
   "source": [
    "### Plaintext results\n",
    "\n",
    "Decrypting the final results"
   ]
  },
  {
   "cell_type": "code",
   "execution_count": 24,
   "metadata": {},
   "outputs": [],
   "source": [
    "plain_predictions = nn.decrypt_decode_output(predictions)"
   ]
  },
  {
   "cell_type": "code",
   "execution_count": 25,
   "metadata": {},
   "outputs": [
    {
     "name": "stdout",
     "output_type": "stream",
     "text": [
      "\n",
      "classification results\n",
      "=========================================\n",
      "Label: Healthy, Prediction: Healthy\n",
      "Label: Healthy, Prediction: Healthy\n",
      "Label: Should talk with a Dr., Prediction: Should talk with a Dr.\n",
      "Label: Should talk with a Dr., Prediction: Should talk with a Dr.\n",
      "Label: Should talk with a Dr., Prediction: Should talk with a Dr.\n",
      "Label: Healthy, Prediction: Healthy\n",
      "Label: Healthy, Prediction: Healthy\n",
      "Label: Healthy, Prediction: Healthy\n",
      "Label: Healthy, Prediction: Healthy\n",
      "Label: Should talk with a Dr., Prediction: Should talk with a Dr.\n",
      "Label: Healthy, Prediction: Healthy\n",
      "Label: Healthy, Prediction: Healthy\n",
      "Label: Should talk with a Dr., Prediction: Should talk with a Dr.\n",
      "Label: Healthy, Prediction: Should talk with a Dr.\n",
      "Label: Should talk with a Dr., Prediction: Should talk with a Dr.\n",
      "Label: Healthy, Prediction: Healthy\n"
     ]
    }
   ],
   "source": [
    "print('\\nclassification results')\n",
    "print('=========================================')\n",
    "for label,pred in zip(labels,plain_predictions):\n",
    "    print('Label:',('Healthy' if label==0 else 'Should talk with a Dr.'),end=', ')\n",
    "    print('Prediction:',('Healthy' if pred[0]<0.5 else 'Should talk with a Dr.'))"
   ]
  }
 ],
 "metadata": {
  "kernelspec": {
   "display_name": "Python 3",
   "language": "python",
   "name": "python3"
  },
  "language_info": {
   "codemirror_mode": {
    "name": "ipython",
    "version": 3
   },
   "file_extension": ".py",
   "mimetype": "text/x-python",
   "name": "python",
   "nbconvert_exporter": "python",
   "pygments_lexer": "ipython3",
   "version": "3.6.9"
  }
 },
 "nbformat": 4,
 "nbformat_minor": 4
}
