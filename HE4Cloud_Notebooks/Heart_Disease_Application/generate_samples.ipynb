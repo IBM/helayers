{
 "cells": [
  {
   "cell_type": "code",
   "execution_count": 5,
   "metadata": {},
   "outputs": [],
   "source": [
    "import pandas as pd\n",
    "import numpy as np\n",
    "from sklearn.model_selection import train_test_split\n",
    "import h5py\n",
    "import os\n",
    "from  preprocessor import Preprocessor"
   ]
  },
  {
   "cell_type": "code",
   "execution_count": 6,
   "metadata": {},
   "outputs": [
    {
     "name": "stdout",
     "output_type": "stream",
     "text": [
      "data shape: (242, 14)\n",
      "Age                          int64\n",
      "Sex                          int64\n",
      "Chest_pain                   int64\n",
      "Resting_blood_pressure       int64\n",
      "Cholesterol                  int64\n",
      "Fasting_blood_sugar          int64\n",
      "ECG_results                  int64\n",
      "Maximum_heart_rate           int64\n",
      "Exercise_induced_angina      int64\n",
      "ST_depression              float64\n",
      "ST_slope                     int64\n",
      "Major_vessels                int64\n",
      "Thalassemia_types            int64\n",
      "Heart_attack                 int64\n",
      "dtype: object\n",
      "data shape: (61, 14)\n",
      "Age                          int64\n",
      "Sex                          int64\n",
      "Chest_pain                   int64\n",
      "Resting_blood_pressure       int64\n",
      "Cholesterol                  int64\n",
      "Fasting_blood_sugar          int64\n",
      "ECG_results                  int64\n",
      "Maximum_heart_rate           int64\n",
      "Exercise_induced_angina      int64\n",
      "ST_depression              float64\n",
      "ST_slope                     int64\n",
      "Major_vessels                int64\n",
      "Thalassemia_types            int64\n",
      "Heart_attack                 int64\n",
      "dtype: object\n"
     ]
    },
    {
     "name": "stderr",
     "output_type": "stream",
     "text": [
      "/home/ehood/.pyenv/versions/3.8.5/envs/hecloud/lib/python3.8/site-packages/sklearn/utils/validation.py:1688: FutureWarning: Feature names only support names that are all strings. Got feature names with dtypes: ['int', 'str']. An error will be raised in 1.2.\n",
      "  warnings.warn(\n",
      "/home/ehood/.pyenv/versions/3.8.5/envs/hecloud/lib/python3.8/site-packages/sklearn/utils/validation.py:1688: FutureWarning: Feature names only support names that are all strings. Got feature names with dtypes: ['int', 'str']. An error will be raised in 1.2.\n",
      "  warnings.warn(\n",
      "/home/ehood/.pyenv/versions/3.8.5/envs/hecloud/lib/python3.8/site-packages/sklearn/utils/validation.py:1688: FutureWarning: Feature names only support names that are all strings. Got feature names with dtypes: ['int', 'str']. An error will be raised in 1.2.\n",
      "  warnings.warn(\n"
     ]
    }
   ],
   "source": [
    "def save_data_set(x, y, data_type, path, s=''):\n",
    "    if not os.path.exists(path):\n",
    "        os.makedirs(path)\n",
    "    fname=os.path.join(path, f'x_{data_type}{s}.h5')\n",
    "    # print(\"Saving x_{} of shape {} in {}\".format(data_type, x.shape, fname))\n",
    "    xf = h5py.File(fname, 'w')\n",
    "    xf.create_dataset('x_{}'.format(data_type), data=x)\n",
    "    xf.close()\n",
    "\n",
    "    # print(\"Saving y_{} of shape {} in {}\".format(data_type, y.shape, fname))\n",
    "    yf = h5py.File(os.path.join(path, f'y_{data_type}{s}.h5'), 'w')\n",
    "    yf.create_dataset(f'y_{data_type}', data=y)\n",
    "    yf.close()\n",
    "\n",
    "df = pd.read_csv(\"datasets/heart_disease.csv\")\n",
    "\n",
    "X = df\n",
    "y = df['target']\n",
    "\n",
    "# Returned values type: \n",
    "# x_train - pandas.core.frame.DataFrame \n",
    "# y_train - pandas.core.series.Series \n",
    "# x_test - pandas.core.frame.DataFrame\n",
    "# y_test - pandas.core.series.Series\n",
    "x_train, x_test, y_train, y_test = train_test_split(X, y, test_size=0.2, random_state=5)\n",
    "\n",
    "prep = Preprocessor()\n",
    "# Returned value type: Numpy NDArray\n",
    "x_train = prep.fit_transform(x_train)\n",
    "# Returned value type: Numpy NDArray\n",
    "x_test = prep.transform(x_test)\n",
    "\n",
    "# Returned values type: \n",
    "# x_test - numpy.ndarray \n",
    "# y_test - pandas.core.series.Series \n",
    "# x_val - numpy.ndarray\n",
    "# y_val - pandas.core.series.Series\n",
    "x_test, x_val, y_test, y_val = train_test_split(x_test, y_test, test_size=0.5, random_state=5)\n",
    "\n",
    "test_idx = y_test[0:15].index\n",
    "path = \"samples//\"\n",
    "if not os.path.exists(path):\n",
    "    os.makedirs(path)\n",
    "\n",
    "for i in range(test_idx.size):\n",
    "    out = f\"Sample_Index: {test_idx[i]}\\n\"\n",
    "    for col in df.columns:\n",
    "        out = out + col + \" : \" + str(df.loc[test_idx[i]][col]) + \"\\n\"\n",
    "    fname = os.path.join(path, \"sample\" + str(i) + \".raw\")\n",
    "    # print(\"Saving raw data to: \" + fname)\n",
    "    with open(fname, 'w') as f:\n",
    "        f.write(out)\n",
    "    save_data_set(np.reshape(x_test[i], [1, x_test[i].shape[0]]), y_test.to_numpy()[i], data_type='sample'+str(i), path=path)\n"
   ]
  }
 ],
 "metadata": {
  "interpreter": {
   "hash": "43d982d829920eaf0507229beb1c4743214d55064409a8508c85e917891da2d5"
  },
  "kernelspec": {
   "display_name": "Python 3.8.5 64-bit ('hecloud')",
   "language": "python",
   "name": "python3"
  },
  "language_info": {
   "codemirror_mode": {
    "name": "ipython",
    "version": 3
   },
   "file_extension": ".py",
   "mimetype": "text/x-python",
   "name": "python",
   "nbconvert_exporter": "python",
   "pygments_lexer": "ipython3",
   "version": "3.8.5"
  },
  "orig_nbformat": 4
 },
 "nbformat": 4,
 "nbformat_minor": 2
}
