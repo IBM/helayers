{
 "cells": [
  {
   "cell_type": "code",
   "execution_count": 3,
   "metadata": {},
   "outputs": [],
   "source": [
    "import pandas as pd\n",
    "import numpy as np\n",
    "from sklearn.model_selection import train_test_split\n",
    "import h5py\n",
    "import os\n",
    "from  preprocessor import Preprocessor"
   ]
  },
  {
   "cell_type": "code",
   "execution_count": 4,
   "metadata": {},
   "outputs": [
    {
     "data": {
      "text/plain": [
       "array([[6.07436074e-01, 6.06806905e-01, 1.00000000e+00, ...,\n",
       "        0.00000000e+00, 5.50120603e-04, 4.22471910e-01],\n",
       "       [3.39493395e-01, 3.38898077e-01, 1.00000000e+00, ...,\n",
       "        8.33333333e-02, 1.31952005e-03, 5.23595506e-02],\n",
       "       [5.28055281e-01, 5.26841706e-01, 0.00000000e+00, ...,\n",
       "        0.00000000e+00, 1.40476951e-03, 2.24719101e-02],\n",
       "       ...,\n",
       "       [2.60232602e-01, 2.60690166e-01, 1.00000000e+00, ...,\n",
       "        0.00000000e+00, 1.35799002e-03, 4.50112360e-01],\n",
       "       [1.88981890e-01, 1.89812901e-01, 1.00000000e+00, ...,\n",
       "        0.00000000e+00, 7.42470465e-04, 1.50292135e-01],\n",
       "       [3.36753368e-01, 3.36038178e-01, 1.00000000e+00, ...,\n",
       "        0.00000000e+00, 5.50120603e-04, 1.57303371e-01]])"
      ]
     },
     "metadata": {},
     "output_type": "display_data"
    },
    {
     "name": "stderr",
     "output_type": "stream",
     "text": [
      "/tmp/ipykernel_9916/1649336773.py:48: FutureWarning: The behavior of `series[i:j]` with an integer-dtype index is deprecated. In a future version, this will be treated as *label-based* indexing, consistent with e.g. `series[i]` lookups. To retain the old behavior, use `series.iloc[i:j]`. To get the future behavior, use `series.loc[i:j]`.\n",
      "  test_idx = y_test[0:15].index\n"
     ]
    }
   ],
   "source": [
    "def save_data_set(x, y, data_type, path, s=''):\n",
    "    if not os.path.exists(path):\n",
    "        os.makedirs(path)\n",
    "    fname=os.path.join(path, f'x_{data_type}{s}.h5')\n",
    "    # print(\"Saving x_{} of shape {} in {}\".format(data_type, x.shape, fname))\n",
    "    xf = h5py.File(fname, 'w')\n",
    "    xf.create_dataset('x_{}'.format(data_type), data=x)\n",
    "    xf.close()\n",
    "\n",
    "    # print(\"Saving y_{} of shape {} in {}\".format(data_type, y.shape, fname))\n",
    "    yf = h5py.File(os.path.join(path, f'y_{data_type}{s}.h5'), 'w')\n",
    "    yf.create_dataset(f'y_{data_type}', data=y)\n",
    "    yf.close()\n",
    "\n",
    "df = pd.read_csv(\"datasets/fraud_detection.csv\")\n",
    "df = df.iloc[0:100000,0:10]\n",
    "\n",
    "df.head()\n",
    "#X =  df.drop(['TARGET'], axis=1)\n",
    "#y = df['TARGET']\n",
    "\n",
    "# Returned values type: \n",
    "# x_train - pandas.core.frame.DataFrame \n",
    "# y_train - pandas.core.series.Series \n",
    "# x_test - pandas.core.frame.DataFrame\n",
    "# y_test - pandas.core.series.Series\n",
    "train, test = train_test_split(df, test_size=0.2, random_state=5)\n",
    "#x_train, x_test, x_train, y_test = train_test_split(X, y, test_size=0.2, random_state=5)\n",
    "y_train = train[\"TARGET\"]\n",
    "y_test = test[\"TARGET\"]\n",
    "x_train = train.drop(\"TARGET\",axis=1)\n",
    "x_test = test.drop(\"TARGET\",axis=1)\n",
    "\n",
    "prep = Preprocessor()\n",
    "# Returned value type: Numpy NDArray\n",
    "x_train = prep.fit_transform(x_train)\n",
    "# Returned value type: Numpy NDArray\n",
    "x_test = prep.transform(x_test)\n",
    "\n",
    "display(x_test)\n",
    "# Returned values type: \n",
    "# x_test - numpy.ndarray \n",
    "# y_test - pandas.core.series.Series \n",
    "# x_val - numpy.ndarray\n",
    "# y_val - pandas.core.series.Series\n",
    "x_test, x_val, y_test, y_val = train_test_split(x_test, y_test, test_size=0.5, random_state=5)\n",
    "\n",
    "test_idx = y_test[0:15].index\n",
    "path = \"samples//\"\n",
    "if not os.path.exists(path):\n",
    "    os.makedirs(path)\n",
    "\n",
    "for i in range(test_idx.size):\n",
    "    out = f\"Sample_Index: {test_idx[i]}\\n\"\n",
    "    for col in df.columns:\n",
    "        out = out + col + \" : \" + str(df.loc[test_idx[i]][col]) + \"\\n\"\n",
    "    fname = os.path.join(path, \"sample\" + str(i) + \".raw\")\n",
    "    # print(\"Saving raw data to: \" + fname)\n",
    "    with open(fname, 'w') as f:\n",
    "        f.write(out)\n",
    "    save_data_set(np.reshape(x_test[i], [1, x_test[i].shape[0]]), y_test.to_numpy()[i], data_type='sample'+str(i), path=path)\n"
   ]
  }
 ],
 "metadata": {
  "kernelspec": {
   "display_name": "Python 3.8.10 ('fhe-py38-env')",
   "language": "python",
   "name": "python3"
  },
  "language_info": {
   "codemirror_mode": {
    "name": "ipython",
    "version": 3
   },
   "file_extension": ".py",
   "mimetype": "text/x-python",
   "name": "python",
   "nbconvert_exporter": "python",
   "pygments_lexer": "ipython3",
   "version": "3.8.10"
  },
  "orig_nbformat": 4,
  "vscode": {
   "interpreter": {
    "hash": "f497b8fb6983b2b7e8d6051f4315e544585546557ee2f98a631c292ad437c819"
   }
  }
 },
 "nbformat": 4,
 "nbformat_minor": 2
}
