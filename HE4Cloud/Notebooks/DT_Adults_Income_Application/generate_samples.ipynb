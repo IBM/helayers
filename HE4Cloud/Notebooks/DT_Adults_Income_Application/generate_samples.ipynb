{
 "cells": [
  {
   "cell_type": "code",
   "execution_count": null,
   "metadata": {},
   "outputs": [],
   "source": [
    "import pandas as pd\n",
    "import numpy as np\n",
    "from sklearn.model_selection import train_test_split\n",
    "import h5py\n",
    "import os\n",
    "from  preprocessor import Preprocessor"
   ]
  },
  {
   "cell_type": "code",
   "execution_count": null,
   "metadata": {},
   "outputs": [],
   "source": [
    "def save_data_set(x, y, data_type, path, s=''):\n",
    "    if not os.path.exists(path):\n",
    "        os.makedirs(path)\n",
    "    fname=os.path.join(path, f'x_{data_type}{s}.h5')\n",
    "    # print(\"Saving x_{} of shape {} in {}\".format(data_type, x.shape, fname))\n",
    "    xf = h5py.File(fname, 'w')\n",
    "    xf.create_dataset('x_{}'.format(data_type), data=x)\n",
    "    xf.close()\n",
    "\n",
    "    # print(\"Saving y_{} of shape {} in {}\".format(data_type, y.shape, fname))\n",
    "    yf = h5py.File(os.path.join(path, f'y_{data_type}{s}.h5'), 'w')\n",
    "    yf.create_dataset(f'y_{data_type}', data=y)\n",
    "    yf.close()\n",
    "\n",
    "column_names = ['age', 'workclass', 'fnlwgt', 'education', 'education-num',\n",
    " 'marital-status', 'occupation', 'relationship', 'race', 'sex',\n",
    "  'capital-gain', 'capital-loss', 'hours-per-week', 'native-country', 'label']\n",
    "\n",
    "df = pd.read_csv(\"./datasets/adult.data\", names=column_names, header=None, index_col=False, engine='python')\n",
    "\n",
    "df.head()\n",
    "\n",
    "X = df.drop(['label'], axis=1)\n",
    "y = df['label'].str.strip().map({'<=50K': 0, '>50K': 1}).astype('int')\n",
    "X.head()\n",
    "\n",
    "# Returned values type: \n",
    "# x_train - pandas.core.frame.DataFrame \n",
    "# y_train - pandas.core.series.Series \n",
    "# x_test - pandas.core.frame.DataFrame\n",
    "# y_test - pandas.core.series.Series\n",
    "x_train, x_test, y_train, y_test = train_test_split(X, y, test_size=0.2, random_state=5, stratify=y)\n",
    "\n",
    "prep = Preprocessor()\n",
    "# Returned value type: Numpy NDArray\n",
    "x_train = prep.fit_transform(x_train)\n",
    "# Returned value type: Numpy NDArray\n",
    "x_test = prep.transform(x_test)\n",
    "\n",
    "# Returned values type: \n",
    "# x_test - numpy.ndarray \n",
    "# y_test - pandas.core.series.Series \n",
    "# x_val - numpy.ndarray\n",
    "# y_val - pandas.core.series.Series\n",
    "x_test, x_val, y_test, y_val = train_test_split(x_test, y_test, test_size=4096, random_state=5, stratify=y_test)\n",
    "\n",
    "test_idx = y_test[0:15].index\n",
    "path = \"samples//\"\n",
    "if not os.path.exists(path):\n",
    "    os.makedirs(path)\n",
    "\n",
    "for i in range(test_idx.size):\n",
    "    out = f\"Sample_Index: {test_idx[i]}\\n\"\n",
    "    for col in df.columns:\n",
    "        out = out + col + \" : \" + str(df.loc[test_idx[i]][col]) + \"\\n\"\n",
    "    fname = os.path.join(path, \"sample\" + str(i) + \".raw\")\n",
    "    # print(\"Saving raw data to: \" + fname)\n",
    "    with open(fname, 'w') as f:\n",
    "        f.write(out)\n",
    "    save_data_set(np.reshape(x_test[i], [1, x_test[i].shape[0]]), y_test.to_numpy()[i], data_type='sample'+str(i), path=path)\n"
   ]
  }
 ],
 "metadata": {
  "kernelspec": {
   "display_name": "Python 3.8.10 ('fhe-py38-env')",
   "language": "python",
   "name": "python3"
  },
  "language_info": {
   "codemirror_mode": {
    "name": "ipython",
    "version": 3
   },
   "file_extension": ".py",
   "mimetype": "text/x-python",
   "name": "python",
   "nbconvert_exporter": "python",
   "pygments_lexer": "ipython3",
   "version": "3.8.10"
  },
  "orig_nbformat": 4,
  "vscode": {
   "interpreter": {
    "hash": "f497b8fb6983b2b7e8d6051f4315e544585546557ee2f98a631c292ad437c819"
   }
  }
 },
 "nbformat": 4,
 "nbformat_minor": 2
}
