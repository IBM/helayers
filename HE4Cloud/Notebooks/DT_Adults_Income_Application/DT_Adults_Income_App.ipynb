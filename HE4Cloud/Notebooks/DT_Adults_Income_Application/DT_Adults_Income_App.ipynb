{
 "cells": [
  {
   "cell_type": "markdown",
   "id": "maritime-jumping",
   "metadata": {},
   "source": [
    "# Adults Income Analysis using a fabricated Adults Data dataset\n",
    "\n",
    "This notebook shows an example of training and running a model that classifies people described by a set of attributes as \n",
    "It is based on a fabricated dataset that generated based on the <a href=\"https://archive.ics.uci.edu/ml/datasets/adult\">Adults income dataset</a> from the <a href=\"https://archive.ics.uci.edu\">UCI</a> repository. \n",
    "The dataset has 14 attributes (6 numerical, 8 categorical) and the target field is an integer representing the income: whether or not the income exceeds $50K/yr.\n",
    "\n",
    "The demonstration uses a decision tree model for classification."
   ]
  },
  {
   "cell_type": "markdown",
   "id": "north-thickness",
   "metadata": {},
   "source": [
    "The dataset attributes are: \n",
    "\n",
    "|Attribute|Values|\n",
    "|---|---|\n",
    "|Age|Numerical|\n",
    "|Workclass|Private, Self-emp-not-inc, Self-emp-inc, Federal-gov, Local-gov, State-gov, Without-pay, Never-worked|\n",
    "|fnlwgt|Numerical|\n",
    "|Education|Bachelors, Some-college, 11th, HS-grad, Prof-school, Assoc-acdm, Assoc-voc, 9th, 7th-8th, 12th, Masters, 1st-4th, 10th, Doctorate, 5th-6th, Preschool|\n",
    "|Education-num|Numerical|\n",
    "|Marital-status|Married-civ-spouse, Divorced, Never-married, Separated, Widowed, Married-spouse-absent, Married-AF-spouse|\n",
    "|Occupation|Tech-support, Craft-repair, Other-service, Sales, Exec-managerial, Prof-specialty, Handlers-cleaners, Machine-op-inspct, Adm-clerical, Farming-fishing, Transport-moving, Priv-house-serv, Protective-serv, Armed-Forces|\n",
    "|Relationship|Wife, Own-child, Husband, Not-in-family, Other-relative, Unmarried|\n",
    "|Race|White, Asian-Pac-Islander, Amer-Indian-Eskimo, Other, Black|\n",
    "|Sex|Female, Male|\n",
    "|Capital-loss|Numerical|\n",
    "|Capital-gain|Numerical|\n",
    "|Hours-per-week|Numerical|\n",
    "|Native-country|United-States, Cambodia, England, Puerto-Rico, Canada, Germany, Outlying-US(Guam-USVI-etc), India, Japan, Greece, South, China, Cuba, Iran, Honduras, Philippines, Italy, Poland, Jamaica, Vietnam, Mexico, Portugal, Ireland, France, Dominican-Republic, Laos, Ecuador, Taiwan, Haiti, Columbia, Hungary, Guatemala, Nicaragua, Scotland, Thailand, Yugoslavia, El-Salvador, Trinadad&Tobago, Peru, Hong, Holand-Netherlands|\n",
    "|Income|>50K , <=50K|"
   ]
  },
  {
   "cell_type": "code",
   "execution_count": 1,
   "id": "fiscal-conducting",
   "metadata": {},
   "outputs": [],
   "source": [
    "import os\n",
    "import warnings\n",
    "warnings.filterwarnings(\"ignore\")\n",
    "\n",
    "##### For reproducibility\n",
    "from numpy.random import seed\n",
    "seed_value= 1\n",
    "os.environ['PYTHONHASHSEED']=str(seed_value)\n",
    "seed(seed_value)\n",
    "import numpy as np\n",
    "import pandas as pd\n",
    "\n",
    "\n",
    "from sklearn import metrics\n",
    "from sklearn.model_selection import train_test_split\n",
    "\n",
    "import h5py\n",
    "\n",
    "import random\n",
    "import sklearn_json as skljson\n",
    "from sklearn.linear_model import LogisticRegression\n",
    "import sys\n",
    "from  preprocessor import Preprocessor\n",
    "\n",
    "TASK_NAME = \"dt_adults_income\"\n",
    "\n",
    "run_with_gpu = False\n"
   ]
  },
  {
   "cell_type": "markdown",
   "id": "structured-authorization",
   "metadata": {},
   "source": [
    "### Data loading\n",
    "Please refer to the dataset <a href=\"https://archive.ics.uci.edu/ml/datasets/adult\">documentation</a> for the complete list of attributes and their description."
   ]
  },
  {
   "cell_type": "code",
   "execution_count": 2,
   "id": "documented-finger",
   "metadata": {},
   "outputs": [
    {
     "data": {
      "text/html": [
       "<div>\n",
       "<style scoped>\n",
       "    .dataframe tbody tr th:only-of-type {\n",
       "        vertical-align: middle;\n",
       "    }\n",
       "\n",
       "    .dataframe tbody tr th {\n",
       "        vertical-align: top;\n",
       "    }\n",
       "\n",
       "    .dataframe thead th {\n",
       "        text-align: right;\n",
       "    }\n",
       "</style>\n",
       "<table border=\"1\" class=\"dataframe\">\n",
       "  <thead>\n",
       "    <tr style=\"text-align: right;\">\n",
       "      <th></th>\n",
       "      <th>age</th>\n",
       "      <th>workclass</th>\n",
       "      <th>fnlwgt</th>\n",
       "      <th>education</th>\n",
       "      <th>education-num</th>\n",
       "      <th>marital-status</th>\n",
       "      <th>occupation</th>\n",
       "      <th>relationship</th>\n",
       "      <th>race</th>\n",
       "      <th>sex</th>\n",
       "      <th>capital-gain</th>\n",
       "      <th>capital-loss</th>\n",
       "      <th>hours-per-week</th>\n",
       "      <th>native-country</th>\n",
       "      <th>label</th>\n",
       "    </tr>\n",
       "  </thead>\n",
       "  <tbody>\n",
       "    <tr>\n",
       "      <th>0</th>\n",
       "      <td>39</td>\n",
       "      <td>State-gov</td>\n",
       "      <td>77516</td>\n",
       "      <td>Bachelors</td>\n",
       "      <td>13</td>\n",
       "      <td>Never-married</td>\n",
       "      <td>Adm-clerical</td>\n",
       "      <td>Not-in-family</td>\n",
       "      <td>White</td>\n",
       "      <td>Male</td>\n",
       "      <td>2174</td>\n",
       "      <td>0</td>\n",
       "      <td>40</td>\n",
       "      <td>United-States</td>\n",
       "      <td>&lt;=50K</td>\n",
       "    </tr>\n",
       "    <tr>\n",
       "      <th>1</th>\n",
       "      <td>50</td>\n",
       "      <td>Self-emp-not-inc</td>\n",
       "      <td>83311</td>\n",
       "      <td>Bachelors</td>\n",
       "      <td>13</td>\n",
       "      <td>Married-civ-spouse</td>\n",
       "      <td>Exec-managerial</td>\n",
       "      <td>Husband</td>\n",
       "      <td>White</td>\n",
       "      <td>Male</td>\n",
       "      <td>0</td>\n",
       "      <td>0</td>\n",
       "      <td>13</td>\n",
       "      <td>United-States</td>\n",
       "      <td>&lt;=50K</td>\n",
       "    </tr>\n",
       "    <tr>\n",
       "      <th>2</th>\n",
       "      <td>38</td>\n",
       "      <td>Private</td>\n",
       "      <td>215646</td>\n",
       "      <td>HS-grad</td>\n",
       "      <td>9</td>\n",
       "      <td>Divorced</td>\n",
       "      <td>Handlers-cleaners</td>\n",
       "      <td>Not-in-family</td>\n",
       "      <td>White</td>\n",
       "      <td>Male</td>\n",
       "      <td>0</td>\n",
       "      <td>0</td>\n",
       "      <td>40</td>\n",
       "      <td>United-States</td>\n",
       "      <td>&lt;=50K</td>\n",
       "    </tr>\n",
       "    <tr>\n",
       "      <th>3</th>\n",
       "      <td>53</td>\n",
       "      <td>Private</td>\n",
       "      <td>234721</td>\n",
       "      <td>11th</td>\n",
       "      <td>7</td>\n",
       "      <td>Married-civ-spouse</td>\n",
       "      <td>Handlers-cleaners</td>\n",
       "      <td>Husband</td>\n",
       "      <td>Black</td>\n",
       "      <td>Male</td>\n",
       "      <td>0</td>\n",
       "      <td>0</td>\n",
       "      <td>40</td>\n",
       "      <td>United-States</td>\n",
       "      <td>&lt;=50K</td>\n",
       "    </tr>\n",
       "    <tr>\n",
       "      <th>4</th>\n",
       "      <td>28</td>\n",
       "      <td>Private</td>\n",
       "      <td>338409</td>\n",
       "      <td>Bachelors</td>\n",
       "      <td>13</td>\n",
       "      <td>Married-civ-spouse</td>\n",
       "      <td>Prof-specialty</td>\n",
       "      <td>Wife</td>\n",
       "      <td>Black</td>\n",
       "      <td>Female</td>\n",
       "      <td>0</td>\n",
       "      <td>0</td>\n",
       "      <td>40</td>\n",
       "      <td>Cuba</td>\n",
       "      <td>&lt;=50K</td>\n",
       "    </tr>\n",
       "  </tbody>\n",
       "</table>\n",
       "</div>"
      ],
      "text/plain": [
       "   age          workclass  fnlwgt   education  education-num  \\\n",
       "0   39          State-gov   77516   Bachelors             13   \n",
       "1   50   Self-emp-not-inc   83311   Bachelors             13   \n",
       "2   38            Private  215646     HS-grad              9   \n",
       "3   53            Private  234721        11th              7   \n",
       "4   28            Private  338409   Bachelors             13   \n",
       "\n",
       "        marital-status          occupation    relationship    race      sex  \\\n",
       "0        Never-married        Adm-clerical   Not-in-family   White     Male   \n",
       "1   Married-civ-spouse     Exec-managerial         Husband   White     Male   \n",
       "2             Divorced   Handlers-cleaners   Not-in-family   White     Male   \n",
       "3   Married-civ-spouse   Handlers-cleaners         Husband   Black     Male   \n",
       "4   Married-civ-spouse      Prof-specialty            Wife   Black   Female   \n",
       "\n",
       "   capital-gain  capital-loss  hours-per-week  native-country   label  \n",
       "0          2174             0              40   United-States   <=50K  \n",
       "1             0             0              13   United-States   <=50K  \n",
       "2             0             0              40   United-States   <=50K  \n",
       "3             0             0              40   United-States   <=50K  \n",
       "4             0             0              40            Cuba   <=50K  "
      ]
     },
     "execution_count": 2,
     "metadata": {},
     "output_type": "execute_result"
    }
   ],
   "source": [
    "column_names = ['age', 'workclass', 'fnlwgt', 'education', 'education-num',\n",
    " 'marital-status', 'occupation', 'relationship', 'race', 'sex',\n",
    "  'capital-gain', 'capital-loss', 'hours-per-week', 'native-country', 'label']\n",
    "\n",
    "df = pd.read_csv(\"./datasets/adult.data\", names=column_names, header=None, index_col=False, engine='python')\n",
    "\n",
    "df.head()"
   ]
  },
  {
   "cell_type": "markdown",
   "id": "interracial-region",
   "metadata": {},
   "source": [
    "### Data preprocessing\n",
    "\n",
    "We first convert the categorial features (in the table below) to indicator vectors. "
   ]
  },
  {
   "cell_type": "markdown",
   "id": "banned-microphone",
   "metadata": {},
   "source": [
    "Subsequently, we split every row into its target value (y) and predicates (X)."
   ]
  },
  {
   "cell_type": "code",
   "execution_count": 3,
   "id": "analyzed-arcade",
   "metadata": {},
   "outputs": [
    {
     "data": {
      "text/html": [
       "<div>\n",
       "<style scoped>\n",
       "    .dataframe tbody tr th:only-of-type {\n",
       "        vertical-align: middle;\n",
       "    }\n",
       "\n",
       "    .dataframe tbody tr th {\n",
       "        vertical-align: top;\n",
       "    }\n",
       "\n",
       "    .dataframe thead th {\n",
       "        text-align: right;\n",
       "    }\n",
       "</style>\n",
       "<table border=\"1\" class=\"dataframe\">\n",
       "  <thead>\n",
       "    <tr style=\"text-align: right;\">\n",
       "      <th></th>\n",
       "      <th>age</th>\n",
       "      <th>workclass</th>\n",
       "      <th>fnlwgt</th>\n",
       "      <th>education</th>\n",
       "      <th>education-num</th>\n",
       "      <th>marital-status</th>\n",
       "      <th>occupation</th>\n",
       "      <th>relationship</th>\n",
       "      <th>race</th>\n",
       "      <th>sex</th>\n",
       "      <th>capital-gain</th>\n",
       "      <th>capital-loss</th>\n",
       "      <th>hours-per-week</th>\n",
       "      <th>native-country</th>\n",
       "    </tr>\n",
       "  </thead>\n",
       "  <tbody>\n",
       "    <tr>\n",
       "      <th>0</th>\n",
       "      <td>39</td>\n",
       "      <td>State-gov</td>\n",
       "      <td>77516</td>\n",
       "      <td>Bachelors</td>\n",
       "      <td>13</td>\n",
       "      <td>Never-married</td>\n",
       "      <td>Adm-clerical</td>\n",
       "      <td>Not-in-family</td>\n",
       "      <td>White</td>\n",
       "      <td>Male</td>\n",
       "      <td>2174</td>\n",
       "      <td>0</td>\n",
       "      <td>40</td>\n",
       "      <td>United-States</td>\n",
       "    </tr>\n",
       "    <tr>\n",
       "      <th>1</th>\n",
       "      <td>50</td>\n",
       "      <td>Self-emp-not-inc</td>\n",
       "      <td>83311</td>\n",
       "      <td>Bachelors</td>\n",
       "      <td>13</td>\n",
       "      <td>Married-civ-spouse</td>\n",
       "      <td>Exec-managerial</td>\n",
       "      <td>Husband</td>\n",
       "      <td>White</td>\n",
       "      <td>Male</td>\n",
       "      <td>0</td>\n",
       "      <td>0</td>\n",
       "      <td>13</td>\n",
       "      <td>United-States</td>\n",
       "    </tr>\n",
       "    <tr>\n",
       "      <th>2</th>\n",
       "      <td>38</td>\n",
       "      <td>Private</td>\n",
       "      <td>215646</td>\n",
       "      <td>HS-grad</td>\n",
       "      <td>9</td>\n",
       "      <td>Divorced</td>\n",
       "      <td>Handlers-cleaners</td>\n",
       "      <td>Not-in-family</td>\n",
       "      <td>White</td>\n",
       "      <td>Male</td>\n",
       "      <td>0</td>\n",
       "      <td>0</td>\n",
       "      <td>40</td>\n",
       "      <td>United-States</td>\n",
       "    </tr>\n",
       "    <tr>\n",
       "      <th>3</th>\n",
       "      <td>53</td>\n",
       "      <td>Private</td>\n",
       "      <td>234721</td>\n",
       "      <td>11th</td>\n",
       "      <td>7</td>\n",
       "      <td>Married-civ-spouse</td>\n",
       "      <td>Handlers-cleaners</td>\n",
       "      <td>Husband</td>\n",
       "      <td>Black</td>\n",
       "      <td>Male</td>\n",
       "      <td>0</td>\n",
       "      <td>0</td>\n",
       "      <td>40</td>\n",
       "      <td>United-States</td>\n",
       "    </tr>\n",
       "    <tr>\n",
       "      <th>4</th>\n",
       "      <td>28</td>\n",
       "      <td>Private</td>\n",
       "      <td>338409</td>\n",
       "      <td>Bachelors</td>\n",
       "      <td>13</td>\n",
       "      <td>Married-civ-spouse</td>\n",
       "      <td>Prof-specialty</td>\n",
       "      <td>Wife</td>\n",
       "      <td>Black</td>\n",
       "      <td>Female</td>\n",
       "      <td>0</td>\n",
       "      <td>0</td>\n",
       "      <td>40</td>\n",
       "      <td>Cuba</td>\n",
       "    </tr>\n",
       "  </tbody>\n",
       "</table>\n",
       "</div>"
      ],
      "text/plain": [
       "   age          workclass  fnlwgt   education  education-num  \\\n",
       "0   39          State-gov   77516   Bachelors             13   \n",
       "1   50   Self-emp-not-inc   83311   Bachelors             13   \n",
       "2   38            Private  215646     HS-grad              9   \n",
       "3   53            Private  234721        11th              7   \n",
       "4   28            Private  338409   Bachelors             13   \n",
       "\n",
       "        marital-status          occupation    relationship    race      sex  \\\n",
       "0        Never-married        Adm-clerical   Not-in-family   White     Male   \n",
       "1   Married-civ-spouse     Exec-managerial         Husband   White     Male   \n",
       "2             Divorced   Handlers-cleaners   Not-in-family   White     Male   \n",
       "3   Married-civ-spouse   Handlers-cleaners         Husband   Black     Male   \n",
       "4   Married-civ-spouse      Prof-specialty            Wife   Black   Female   \n",
       "\n",
       "   capital-gain  capital-loss  hours-per-week  native-country  \n",
       "0          2174             0              40   United-States  \n",
       "1             0             0              13   United-States  \n",
       "2             0             0              40   United-States  \n",
       "3             0             0              40   United-States  \n",
       "4             0             0              40            Cuba  "
      ]
     },
     "execution_count": 3,
     "metadata": {},
     "output_type": "execute_result"
    }
   ],
   "source": [
    "X = df.drop(['label'], axis=1)\n",
    "y = df['label'].str.strip().map({'<=50K': 0, '>50K': 1}).astype('int')\n",
    "X.head()"
   ]
  },
  {
   "cell_type": "markdown",
   "id": "pleased-antigua",
   "metadata": {},
   "source": [
    "### Data preprocessing\n",
    "\n",
    "We split the dataset into the training (x_train, y_train) and test (x_test, y_test) sets and scale their features. \n",
    "\n",
    "We convert the categorial features (in the table below) to indicator vectors. \n",
    "\n",
    "Subsequently, we split the test set into test and validation sets."
   ]
  },
  {
   "cell_type": "code",
   "execution_count": 4,
   "id": "brilliant-tackle",
   "metadata": {},
   "outputs": [],
   "source": [
    "x_train, x_test, y_train, y_test = train_test_split(X, y ,test_size=0.2, random_state=5, stratify=y)\n",
    "\n",
    "prep = Preprocessor()\n",
    "x_train = prep.fit_transform(x_train)\n",
    "x_test = prep.transform(x_test)\n",
    "\n",
    "x_test, x_val, y_test, y_val = train_test_split(x_test, y_test, test_size=4096, random_state=5, stratify=y_test)"
   ]
  },
  {
   "cell_type": "markdown",
   "id": "latest-salmon",
   "metadata": {},
   "source": [
    "For later use in HE, we save the different preprocessed datasets."
   ]
  },
  {
   "cell_type": "code",
   "execution_count": 5,
   "id": "involved-dressing",
   "metadata": {},
   "outputs": [
    {
     "name": "stdout",
     "output_type": "stream",
     "text": [
      "Saving x_test of shape (2417, 6) in datasets/x_test.h5\n",
      "Saving y_test of shape (2417,) in datasets/x_test.h5\n",
      "Saving x_train of shape (26048, 6) in datasets/x_train.h5\n",
      "Saving y_train of shape (26048,) in datasets/x_train.h5\n",
      "Saving x_val of shape (4096, 6) in datasets/x_val.h5\n",
      "Saving y_val of shape (4096,) in datasets/x_val.h5\n"
     ]
    }
   ],
   "source": [
    "def save_data_set(x, y, data_type, path, s=''):\n",
    "    if not os.path.exists(path):\n",
    "        os.makedirs(path)\n",
    "    fname=os.path.join(path, f'x_{data_type}{s}.h5')\n",
    "    print(\"Saving x_{} of shape {} in {}\".format(data_type, x.shape, fname))\n",
    "    xf = h5py.File(fname, 'w')\n",
    "    xf.create_dataset('x_{}'.format(data_type), data=x)\n",
    "    xf.close()\n",
    "\n",
    "    print(\"Saving y_{} of shape {} in {}\".format(data_type, y.shape, fname))\n",
    "    yf = h5py.File(os.path.join(path, f'y_{data_type}{s}.h5'), 'w')\n",
    "    yf.create_dataset(f'y_{data_type}', data=y)\n",
    "    yf.close()\n",
    "\n",
    "datasets_dir = \"datasets/\"\n",
    "model_dir = \"model/\"\n",
    "\n",
    "save_data_set(x_test, y_test, data_type='test', path=datasets_dir)\n",
    "save_data_set(x_train, y_train, data_type='train', path=datasets_dir)\n",
    "save_data_set(x_val, y_val, data_type='val', path=datasets_dir)\n",
    "\n",
    "if not os.path.exists(model_dir):\n",
    "    os.mkdir(model_dir)\n",
    "prep.save(os.path.join(model_dir, \"prep.pickle\"))"
   ]
  },
  {
   "cell_type": "markdown",
   "id": "4e5c3a5e",
   "metadata": {},
   "source": [
    "### Training a Decision Tree Model"
   ]
  },
  {
   "cell_type": "code",
   "execution_count": 6,
   "id": "individual-layer",
   "metadata": {},
   "outputs": [
    {
     "name": "stdout",
     "output_type": "stream",
     "text": [
      "DT model ready\n"
     ]
    }
   ],
   "source": [
    "from sklearn.tree import DecisionTreeClassifier\n",
    "\n",
    "clf = DecisionTreeClassifier(max_depth=3)\n",
    "clf.fit(x_train, y_train)\n",
    "\n",
    "print('DT model ready')"
   ]
  },
  {
   "cell_type": "markdown",
   "id": "e6ce5c47",
   "metadata": {},
   "source": [
    "For later use in HE, we save the trained model."
   ]
  },
  {
   "cell_type": "code",
   "execution_count": 7,
   "id": "8f6b171f",
   "metadata": {},
   "outputs": [
    {
     "name": "stdout",
     "output_type": "stream",
     "text": [
      "Saved model to  model/dt_adults_income_model.json\n"
     ]
    }
   ],
   "source": [
    "def save_model(model, path):\n",
    "    if not os.path.exists(path):\n",
    "        os.mkdir(path)\n",
    "    fname = os.path.join(path, f\"{TASK_NAME}_model.json\")\n",
    "    skljson.to_json(model, fname)\n",
    "    print(\"Saved model to \",fname)\n",
    "\n",
    "save_model(clf, model_dir)\n"
   ]
  },
  {
   "cell_type": "markdown",
   "id": "27a38f9f",
   "metadata": {},
   "source": [
    "### Using the model for classifying cleartest data"
   ]
  },
  {
   "cell_type": "code",
   "execution_count": 8,
   "id": "462437a9",
   "metadata": {},
   "outputs": [],
   "source": [
    "y_pred = clf.predict(x_test)"
   ]
  },
  {
   "cell_type": "markdown",
   "id": "872d294c",
   "metadata": {},
   "source": [
    "Confusion Matrix - TEST"
   ]
  },
  {
   "cell_type": "code",
   "execution_count": 9,
   "id": "128a8651",
   "metadata": {},
   "outputs": [
    {
     "name": "stdout",
     "output_type": "stream",
     "text": [
      "AUC Score: 0.731\n",
      "Classification report:\n",
      "              precision    recall  f1-score   support\n",
      "\n",
      "           0       0.86      0.95      0.90      1835\n",
      "           1       0.78      0.51      0.61       582\n",
      "\n",
      "    accuracy                           0.85      2417\n",
      "   macro avg       0.82      0.73      0.76      2417\n",
      "weighted avg       0.84      0.85      0.83      2417\n",
      "\n",
      "Confusion Matrix:\n",
      "[[1751   84]\n",
      " [ 287  295]]\n"
     ]
    }
   ],
   "source": [
    "f,t,thresholds = metrics.roc_curve(y_test, y_pred)\n",
    "cm = metrics.confusion_matrix(y_test, y_pred)\n",
    "print(f\"AUC Score: {metrics.auc(f,t):.3f}\")\n",
    "print(\"Classification report:\")\n",
    "print(metrics.classification_report(y_test, y_pred))\n",
    "print(\"Confusion Matrix:\")\n",
    "print(cm)"
   ]
  },
  {
   "cell_type": "markdown",
   "id": "7484df37",
   "metadata": {},
   "source": [
    "### Using the model for classifying encrypted data\n",
    "\n",
    "To run the model over encrypted samples with homomorphic encryption (HE), we first load the pyhelayers package and refer it to the directory \"output/\", where we saved the model and the relevant datasets."
   ]
  },
  {
   "cell_type": "code",
   "execution_count": 10,
   "id": "8955e913",
   "metadata": {},
   "outputs": [],
   "source": [
    "import pyhelayers"
   ]
  },
  {
   "cell_type": "markdown",
   "id": "8e86ffef",
   "metadata": {},
   "source": [
    "Load test data and labels from the h5 file"
   ]
  },
  {
   "cell_type": "code",
   "execution_count": 11,
   "id": "63b16121",
   "metadata": {},
   "outputs": [],
   "source": [
    "with h5py.File(datasets_dir + \"x_test.h5\") as f:\n",
    "    x_test = np.array(f[\"x_test\"])\n",
    "with h5py.File(datasets_dir + \"y_test.h5\") as f:\n",
    "    y_test = np.array(f[\"y_test\"])"
   ]
  },
  {
   "cell_type": "markdown",
   "id": "34a9af7e-8f38-4f79-af31-06d214f74e16",
   "metadata": {},
   "source": [
    "### Compute the feature ranges\n"
   ]
  },
  {
   "cell_type": "markdown",
   "id": "8d049504-d324-4214-8c14-86a032122304",
   "metadata": {},
   "source": [
    "Our implementaiton requires the users to specify the minimum and maximum values of each feature. Here, we extract this info from the training data and assume it will also be relevant to the test data."
   ]
  },
  {
   "cell_type": "code",
   "execution_count": 12,
   "id": "63993415-b48c-4f73-b85b-57a9d0d728b8",
   "metadata": {},
   "outputs": [],
   "source": [
    "def get_feature_range(col):\n",
    "    return (col.min(), col.max())\n",
    "\n",
    "feature_ranges = []\n",
    "for col in x_train.T:\n",
    "    feature_ranges.append(get_feature_range(col))"
   ]
  },
  {
   "cell_type": "markdown",
   "id": "b76c1f7f",
   "metadata": {},
   "source": [
    "Load a plain model"
   ]
  },
  {
   "cell_type": "code",
   "execution_count": 13,
   "id": "967730dc",
   "metadata": {},
   "outputs": [
    {
     "name": "stdout",
     "output_type": "stream",
     "text": [
      "The provided parameters are a valid represention of DTreePlain model. Printing each other supported model type and the reason for which the provided parameters are not valid for it.\n",
      "*** ArimaPlain ***\n",
      "/data/helayers/src/helayers/ai/arima/ArimaPlain.cpp:28: doInit: Assertion failed: streams.empty()\n",
      "*** KMeansPlain ***\n",
      "KMeans initialization: expecting CSV file/stream, .json given\n",
      "*** XGBoostPlain ***\n",
      "No subtree exists under the specified key: learner\n",
      "*** NeuralNetPlain ***\n",
      "Neural network initialization from a single JSON file must include initializing random weights, using Hyperparameters initRandomWeights flag\n",
      "*** LogisticRegressionPlain ***\n",
      "No subtree exists under the specified key: coef_\n",
      "loaded plain model\n"
     ]
    }
   ],
   "source": [
    "hyper_params = pyhelayers.PlainModelHyperParams()\n",
    "hyper_params.feature_ranges = feature_ranges\n",
    "# hyper_params.grep = 3\n",
    "# hyper_params.frep = 1\n",
    "\n",
    "hyper_params.verbose = True\n",
    "\n",
    "plain_dtree = pyhelayers.PlainModel.create(hyper_params, [os.path.join(model_dir, f\"{TASK_NAME}_model.json\")])\n",
    "# plain_dtree.init_from_json_file(os.path.join(model_dir, f\"{TASK_NAME}_model.json\"))\n",
    "print(\"loaded plain model\")"
   ]
  },
  {
   "cell_type": "markdown",
   "id": "ad8ce704",
   "metadata": {},
   "source": [
    "Apply automatic optimziations"
   ]
  },
  {
   "cell_type": "code",
   "execution_count": 14,
   "id": "c737ab88",
   "metadata": {},
   "outputs": [
    {
     "name": "stdout",
     "output_type": "stream",
     "text": [
      "Using SEAL backend\n"
     ]
    }
   ],
   "source": [
    "he_run_req = pyhelayers.HeRunRequirements()\n",
    "\n",
    "if hasattr(pyhelayers, \"HeaanContext\"):\n",
    "    print('Using HEaaN backend')\n",
    "    he_run_req.set_he_context_options([pyhelayers.HeaanContext()])\n",
    "else:\n",
    "    print('Using SEAL backend')\n",
    "    he_run_req.set_he_context_options([pyhelayers.SealCkksContext()])"
   ]
  },
  {
   "cell_type": "code",
   "execution_count": 15,
   "id": "8e972843",
   "metadata": {},
   "outputs": [
    {
     "name": "stdout",
     "output_type": "stream",
     "text": [
      "*** Searching profiles for mode DEFAULT ***\n",
      "Running 6 simulations . . .\n",
      "*** Search summary for mode DEFAULT ***\n",
      "Profiles evaluated: 4\n",
      "Best profile:\n",
      "He configuration requirement:\n",
      "Security level: 128\n",
      "Integer part precision: 10\n",
      "Fractional part precision: 41\n",
      "Number of slots: 16384\n",
      "Multiplication depth: 19\n",
      "Bootstrappable: False\n",
      "Automatic bootstrapping: False\n",
      "Rotation keys policy: custom, 0 keys required:\n",
      "[]\n",
      "HE context name: SEAL_CKKS\n",
      "Mode: predict\n",
      "Tile layout: ( 16384 x 1 )\n",
      "Mode name: DEFAULT\n",
      "Is model encrypted: true\n",
      "Using circuit optimization: false\n",
      "Lazy encoding: false\n",
      "Handle overflow: false\n",
      "Base chain index: 19\n",
      "Estimated model measures:\n",
      "Required bootstrap operations: 0\n",
      "Estimated predict CPU time (s): 37.16\n",
      "Estimated init model CPU time (s): 1.58\n",
      "Estimated encrypt input CPU time (s): 0.42\n",
      "Estimated decrypt output CPU time (s): 0.00\n",
      "Estimated throughput (samples/s): 440.92\n",
      "Estimated model memory (MB): 83.89\n",
      "Estimated input memory (MB): 41.94\n",
      "Estimated output memory (MB): 0.52\n",
      "Estimated context memory (MB): 456.00\n",
      "\n",
      "Recommending the following HE profile:\n",
      "He configuration requirement:\n",
      "Security level: 128\n",
      "Integer part precision: 10\n",
      "Fractional part precision: 41\n",
      "Number of slots: 16384\n",
      "Multiplication depth: 19\n",
      "Bootstrappable: False\n",
      "Automatic bootstrapping: False\n",
      "Rotation keys policy: custom, 0 keys required:\n",
      "[]\n",
      "HE context name: SEAL_CKKS\n",
      "Mode: predict\n",
      "Tile layout: ( 16384 x 1 )\n",
      "Mode name: DEFAULT\n",
      "Is model encrypted: true\n",
      "Using circuit optimization: false\n",
      "Lazy encoding: false\n",
      "Handle overflow: false\n",
      "Base chain index: 19\n",
      "Estimated model measures:\n",
      "Required bootstrap operations: 0\n",
      "Estimated predict CPU time (s): 37.16\n",
      "Estimated init model CPU time (s): 1.58\n",
      "Estimated encrypt input CPU time (s): 0.42\n",
      "Estimated decrypt output CPU time (s): 0.00\n",
      "Estimated throughput (samples/s): 440.92\n",
      "Estimated model memory (MB): 83.89\n",
      "Estimated input memory (MB): 41.94\n",
      "Estimated output memory (MB): 0.52\n",
      "Estimated context memory (MB): 456.00\n"
     ]
    }
   ],
   "source": [
    "profile = pyhelayers.HeModel.compile(plain_dtree, he_run_req)"
   ]
  },
  {
   "cell_type": "markdown",
   "id": "b95f1d7f",
   "metadata": {},
   "source": [
    "Intialize the HE context with the optimized configuration."
   ]
  },
  {
   "cell_type": "code",
   "execution_count": 16,
   "id": "08535539",
   "metadata": {},
   "outputs": [],
   "source": [
    "he_context = pyhelayers.HeModel.create_context(profile)\n",
    "if run_with_gpu:\n",
    "    he_context.set_default_device(pyhelayers.DeviceType.DEVICE_GPU)\n",
    "else:\n",
    "    he_context.set_default_device(pyhelayers.DeviceType.DEVICE_CPU)"
   ]
  },
  {
   "cell_type": "markdown",
   "id": "a46de7e6",
   "metadata": {},
   "source": [
    "### 2.6. Initialize and encrypt the model¶\n",
    "We initialize the HE model using the plain model and the HE profile computed above."
   ]
  },
  {
   "cell_type": "code",
   "execution_count": 17,
   "id": "ee21a567",
   "metadata": {},
   "outputs": [
    {
     "name": "stdout",
     "output_type": "stream",
     "text": [
      "FHE model encrypted and initialized\n"
     ]
    }
   ],
   "source": [
    "dt = plain_dtree.get_empty_he_model(he_context)\n",
    "dt.encode_encrypt(plain_dtree, profile)\n",
    "print('FHE model encrypted and initialized')"
   ]
  },
  {
   "cell_type": "markdown",
   "id": "dc83ecdb",
   "metadata": {},
   "source": [
    "We use the encrypted model over batches of 16 records at a time. "
   ]
  },
  {
   "cell_type": "code",
   "execution_count": 18,
   "id": "1fdb16b9",
   "metadata": {},
   "outputs": [],
   "source": [
    "batch_size=16\n",
    "plain_samples = x_test.take(indices=range(0, batch_size), axis=0)\n",
    "labels = y_test.take(indices=range(0, batch_size), axis=0)"
   ]
  },
  {
   "cell_type": "markdown",
   "id": "4fa10a46",
   "metadata": {},
   "source": [
    "Encrypt input samples"
   ]
  },
  {
   "cell_type": "code",
   "execution_count": 19,
   "id": "a681cba4",
   "metadata": {},
   "outputs": [
    {
     "name": "stdout",
     "output_type": "stream",
     "text": [
      "input data encrypted\n"
     ]
    }
   ],
   "source": [
    "iop = dt.create_io_processor()\n",
    "x_test_enc = iop.encode_encrypt_input_for_predict(plain_samples)\n",
    "print('input data encrypted')"
   ]
  },
  {
   "cell_type": "markdown",
   "id": "3e328943-78c2-4141-aad7-846ffc898406",
   "metadata": {},
   "source": [
    "We perform FHE prediction on the encrypted test samples, using the encrypted model. The resulting predictions are encrypted as well, and will next be decrypted and compared to the expected labels."
   ]
  },
  {
   "cell_type": "markdown",
   "id": "e83a5b6a",
   "metadata": {},
   "source": [
    "### Run prediction over the encrypted data\n",
    "Now we perform inference of the 16 samples under encryption "
   ]
  },
  {
   "cell_type": "code",
   "execution_count": 20,
   "id": "b89a5d06",
   "metadata": {},
   "outputs": [
    {
     "name": "stdout",
     "output_type": "stream",
     "text": [
      "prediction ready\n"
     ]
    }
   ],
   "source": [
    "res = dt.predict(x_test_enc)\n",
    "print('prediction ready')"
   ]
  },
  {
   "cell_type": "markdown",
   "id": "50c08b17",
   "metadata": {},
   "source": [
    "### Plaintext results\n",
    "\n",
    "Decrypting the final results"
   ]
  },
  {
   "cell_type": "code",
   "execution_count": 21,
   "id": "f1318a18",
   "metadata": {},
   "outputs": [],
   "source": [
    "res_plain = iop.decrypt_decode_output(res)\n",
    "res_plain = np.where(res_plain > 0.5, 1, 0)"
   ]
  },
  {
   "cell_type": "code",
   "execution_count": 22,
   "id": "6316599f",
   "metadata": {},
   "outputs": [
    {
     "name": "stdout",
     "output_type": "stream",
     "text": [
      "\n",
      "classification results\n",
      "=========================================\n",
      "Label: Bad., Prediction: Bad\n",
      "Label: Bad., Prediction: Bad\n",
      "Label: Bad., Prediction: Bad\n",
      "Label: Bad., Prediction: Bad\n",
      "Label: Bad., Prediction: Bad\n",
      "Label: Good, Prediction: Bad\n",
      "Label: Bad., Prediction: Bad\n",
      "Label: Good, Prediction: Bad\n",
      "Label: Bad., Prediction: Bad\n",
      "Label: Bad., Prediction: Good.\n",
      "Label: Bad., Prediction: Bad\n",
      "Label: Bad., Prediction: Bad\n",
      "Label: Bad., Prediction: Bad\n",
      "Label: Bad., Prediction: Bad\n",
      "Label: Bad., Prediction: Bad\n",
      "Label: Bad., Prediction: Bad\n"
     ]
    }
   ],
   "source": [
    "print('\\nclassification results')\n",
    "print('=========================================')\n",
    "for label,pred in zip(labels,res_plain):\n",
    "    print('Label:',('Good' if label==1 else 'Bad.'),end=', ')\n",
    "    print('Prediction:',('Bad' if pred[0]<0.5 else 'Good.'))"
   ]
  },
  {
   "cell_type": "code",
   "execution_count": null,
   "id": "04c39359-5c1a-4963-99e5-667cb20be6b5",
   "metadata": {},
   "outputs": [],
   "source": []
  }
 ],
 "metadata": {
  "kernelspec": {
   "display_name": "Python 3.8.10 ('fhe-py38-env')",
   "language": "python",
   "name": "python3"
  },
  "language_info": {
   "codemirror_mode": {
    "name": "ipython",
    "version": 3
   },
   "file_extension": ".py",
   "mimetype": "text/x-python",
   "name": "python",
   "nbconvert_exporter": "python",
   "pygments_lexer": "ipython3",
   "version": "3.8.10"
  },
  "vscode": {
   "interpreter": {
    "hash": "f497b8fb6983b2b7e8d6051f4315e544585546557ee2f98a631c292ad437c819"
   }
  }
 },
 "nbformat": 4,
 "nbformat_minor": 5
}
